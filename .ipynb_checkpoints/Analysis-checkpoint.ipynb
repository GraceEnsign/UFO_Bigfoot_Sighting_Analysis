{
 "cells": [
  {
   "cell_type": "code",
   "execution_count": 3,
   "id": "ad571894",
   "metadata": {},
   "outputs": [],
   "source": [
    "#Import packages\n",
    "import pandas as pd\n",
    "import numpy as np\n",
    "import os\n",
    "import geocoder\n",
    "from geopy.geocoders import Nominatim"
   ]
  },
  {
   "cell_type": "code",
   "execution_count": 4,
   "id": "3878a2de",
   "metadata": {
    "scrolled": true
   },
   "outputs": [],
   "source": [
    "#Read in BF locations data\n",
    "BF_Locations = pd.read_csv(os.path.join(\"https://download.data.world/s/a5gdzsmxenwcwqmnbjaaizbfk4uea3\"))\n",
    "BF_Reports = pd.read_csv(os.path.join(\"https://download.data.world/s/td52m5guv2cpruwjo6pr2cd3fbk5cx\"))"
   ]
  },
  {
   "cell_type": "code",
   "execution_count": 5,
   "id": "4266e8e9",
   "metadata": {},
   "outputs": [],
   "source": [
    "#Read in UFO data\n",
    "UFO = pd.read_csv(os.path.join(\"https://download.data.world/s/lobqhnvklhbppb4ayke4b23lsupg57\"))"
   ]
  },
  {
   "cell_type": "code",
   "execution_count": 6,
   "id": "0c6825fb",
   "metadata": {},
   "outputs": [],
   "source": [
    "#Change column name in BF locations dataframe\n",
    "BF_Locations = BF_Locations.rename(columns={'number': 'report_number'})"
   ]
  },
  {
   "cell_type": "code",
   "execution_count": 7,
   "id": "c0ec6a59",
   "metadata": {
    "scrolled": true
   },
   "outputs": [],
   "source": [
    "#Merge two BF datasets\n",
    "BF = pd.merge(BF_Locations, BF_Reports, how='left', left_on='report_number', right_on='report_number')"
   ]
  },
  {
   "cell_type": "code",
   "execution_count": 8,
   "id": "b6f5e032",
   "metadata": {},
   "outputs": [],
   "source": [
    "#Split 'title' column by report number and report\n",
    "BF[['report_number2', 'report']] = BF.pop('title').str.split(pat=':', n=1, expand=True)"
   ]
  },
  {
   "cell_type": "code",
   "execution_count": 9,
   "id": "a1ec3919",
   "metadata": {},
   "outputs": [],
   "source": [
    "#Reformatting timestamp column\n",
    "BF['timestamp'] = pd.to_datetime(BF['timestamp'], format = \"%Y-%m-%dT%H:%M:%S.%f\")"
   ]
  },
  {
   "cell_type": "code",
   "execution_count": 10,
   "id": "5cc12220",
   "metadata": {},
   "outputs": [],
   "source": [
    "#Splitting timestamp column\n",
    "BF['report_date'] = BF['timestamp'].dt.date\n",
    "BF['time'] = BF['timestamp'].dt.time"
   ]
  },
  {
   "cell_type": "code",
   "execution_count": 11,
   "id": "556e20b8",
   "metadata": {},
   "outputs": [],
   "source": [
    "#Removing unnecessary columns\n",
    "BF = BF.drop(['timestamp', 'year', 'season', 'report_class', \n",
    "              'month', 'date', 'a_g_references', 'time', 'report_number2'], axis=1)"
   ]
  },
  {
   "cell_type": "code",
   "execution_count": 12,
   "id": "897a7261",
   "metadata": {},
   "outputs": [],
   "source": [
    "#Drop unnecessary columns\n",
    "UFO = UFO.drop(['stats', 'report_link', 'text'], axis = 1)"
   ]
  },
  {
   "cell_type": "code",
   "execution_count": 13,
   "id": "bceaeced",
   "metadata": {},
   "outputs": [],
   "source": [
    "#Remove all countries other than USA\n",
    "UFO = UFO.loc[UFO[\"country\"] == \"USA\"]"
   ]
  },
  {
   "cell_type": "code",
   "execution_count": 14,
   "id": "da658c8a",
   "metadata": {},
   "outputs": [],
   "source": [
    "#Split 'date_time' column\n",
    "UFO[['date', 'time']] = UFO.pop('date_time').str.split(pat=' ', n=1, expand=True)"
   ]
  },
  {
   "cell_type": "code",
   "execution_count": 15,
   "id": "1ed620bb",
   "metadata": {},
   "outputs": [],
   "source": [
    "#Changing dates to datetime format\n",
    "BF['report_date'] = pd.to_datetime(BF['report_date'], errors='coerce')\n",
    "UFO['date'] = pd.to_datetime(UFO['date'], errors='coerce')"
   ]
  },
  {
   "cell_type": "code",
   "execution_count": 16,
   "id": "7744c464",
   "metadata": {},
   "outputs": [],
   "source": [
    "#Dropping null values\n",
    "UFO = UFO[UFO['date'].notna()]"
   ]
  },
  {
   "cell_type": "code",
   "execution_count": 17,
   "id": "d5a8e845",
   "metadata": {},
   "outputs": [
    {
     "data": {
      "text/html": [
       "<div>\n",
       "<style scoped>\n",
       "    .dataframe tbody tr th:only-of-type {\n",
       "        vertical-align: middle;\n",
       "    }\n",
       "\n",
       "    .dataframe tbody tr th {\n",
       "        vertical-align: top;\n",
       "    }\n",
       "\n",
       "    .dataframe thead th {\n",
       "        text-align: right;\n",
       "    }\n",
       "</style>\n",
       "<table border=\"1\" class=\"dataframe\">\n",
       "  <thead>\n",
       "    <tr style=\"text-align: right;\">\n",
       "      <th></th>\n",
       "      <th>city</th>\n",
       "      <th>state</th>\n",
       "      <th>country</th>\n",
       "      <th>shape</th>\n",
       "      <th>duration</th>\n",
       "      <th>summary</th>\n",
       "      <th>posted</th>\n",
       "      <th>date</th>\n",
       "      <th>time</th>\n",
       "    </tr>\n",
       "  </thead>\n",
       "  <tbody>\n",
       "    <tr>\n",
       "      <th>0</th>\n",
       "      <td>Sisters</td>\n",
       "      <td>OR</td>\n",
       "      <td>USA</td>\n",
       "      <td>Cigar</td>\n",
       "      <td>4 minutes</td>\n",
       "      <td>Long and narrow illuminated craft flying high ...</td>\n",
       "      <td>5/20/21</td>\n",
       "      <td>2021-05-15</td>\n",
       "      <td>22:36</td>\n",
       "    </tr>\n",
       "    <tr>\n",
       "      <th>1</th>\n",
       "      <td>Sarasota</td>\n",
       "      <td>FL</td>\n",
       "      <td>USA</td>\n",
       "      <td>Other</td>\n",
       "      <td>2 minutes</td>\n",
       "      <td>String of lights</td>\n",
       "      <td>5/20/21</td>\n",
       "      <td>2021-05-10</td>\n",
       "      <td>22:00</td>\n",
       "    </tr>\n",
       "    <tr>\n",
       "      <th>2</th>\n",
       "      <td>Cleveland</td>\n",
       "      <td>TN</td>\n",
       "      <td>USA</td>\n",
       "      <td>Light</td>\n",
       "      <td>10 minutes</td>\n",
       "      <td>30+ lights in a line.</td>\n",
       "      <td>5/20/21</td>\n",
       "      <td>2021-05-05</td>\n",
       "      <td>22:35</td>\n",
       "    </tr>\n",
       "    <tr>\n",
       "      <th>3</th>\n",
       "      <td>Galway</td>\n",
       "      <td>NY</td>\n",
       "      <td>USA</td>\n",
       "      <td>Circle</td>\n",
       "      <td>5 mins</td>\n",
       "      <td>I was standing at my kitchen sink and looked u...</td>\n",
       "      <td>8/20/21</td>\n",
       "      <td>2020-10-16</td>\n",
       "      <td>18:25</td>\n",
       "    </tr>\n",
       "    <tr>\n",
       "      <th>4</th>\n",
       "      <td>Downingtown</td>\n",
       "      <td>PA</td>\n",
       "      <td>USA</td>\n",
       "      <td>Circle</td>\n",
       "      <td>1 hour</td>\n",
       "      <td>Multiple slow moving craft seen all over the s...</td>\n",
       "      <td>7/31/21</td>\n",
       "      <td>2021-06-18</td>\n",
       "      <td>01:00</td>\n",
       "    </tr>\n",
       "  </tbody>\n",
       "</table>\n",
       "</div>"
      ],
      "text/plain": [
       "          city state country   shape    duration  \\\n",
       "0      Sisters    OR     USA   Cigar   4 minutes   \n",
       "1     Sarasota    FL     USA   Other   2 minutes   \n",
       "2    Cleveland    TN     USA   Light  10 minutes   \n",
       "3       Galway    NY     USA  Circle      5 mins   \n",
       "4  Downingtown    PA     USA  Circle      1 hour   \n",
       "\n",
       "                                             summary   posted       date  \\\n",
       "0  Long and narrow illuminated craft flying high ...  5/20/21 2021-05-15   \n",
       "1                                   String of lights  5/20/21 2021-05-10   \n",
       "2                              30+ lights in a line.  5/20/21 2021-05-05   \n",
       "3  I was standing at my kitchen sink and looked u...  8/20/21 2020-10-16   \n",
       "4  Multiple slow moving craft seen all over the s...  7/31/21 2021-06-18   \n",
       "\n",
       "    time  \n",
       "0  22:36  \n",
       "1  22:00  \n",
       "2  22:35  \n",
       "3  18:25  \n",
       "4  01:00  "
      ]
     },
     "execution_count": 17,
     "metadata": {},
     "output_type": "execute_result"
    }
   ],
   "source": [
    "UFO.head()"
   ]
  },
  {
   "cell_type": "code",
   "execution_count": 18,
   "id": "8f5f1026",
   "metadata": {},
   "outputs": [
    {
     "data": {
      "text/plain": [
       "city                object\n",
       "state               object\n",
       "country             object\n",
       "shape               object\n",
       "duration            object\n",
       "summary             object\n",
       "posted              object\n",
       "date        datetime64[ns]\n",
       "time                object\n",
       "dtype: object"
      ]
     },
     "execution_count": 18,
     "metadata": {},
     "output_type": "execute_result"
    }
   ],
   "source": [
    "UFO.dtypes"
   ]
  },
  {
   "cell_type": "code",
   "execution_count": 24,
   "id": "b358426e",
   "metadata": {},
   "outputs": [
    {
     "name": "stdout",
     "output_type": "stream",
     "text": [
      "Louisville, Jefferson County, Kentucky, United States\n"
     ]
    }
   ],
   "source": [
    "geolocator = Nominatim(user_agent=\"MyApp\")\n",
    "query= 'Louisville, Ky'\n",
    "results = geolocator.geocode(query)\n",
    "print(results)"
   ]
  },
  {
   "cell_type": "code",
   "execution_count": 27,
   "id": "d5597e1a",
   "metadata": {},
   "outputs": [
    {
     "ename": "AttributeError",
     "evalue": "'NoneType' object has no attribute 'latitude'",
     "output_type": "error",
     "traceback": [
      "\u001b[1;31m---------------------------------------------------------------------------\u001b[0m",
      "\u001b[1;31mAttributeError\u001b[0m                            Traceback (most recent call last)",
      "Input \u001b[1;32mIn [27]\u001b[0m, in \u001b[0;36m<cell line: 4>\u001b[1;34m()\u001b[0m\n\u001b[0;32m      8\u001b[0m query \u001b[38;5;241m=\u001b[39m \u001b[38;5;28mstr\u001b[39m(city) \u001b[38;5;241m+\u001b[39m \u001b[38;5;124m'\u001b[39m\u001b[38;5;124m,\u001b[39m\u001b[38;5;124m'\u001b[39m \u001b[38;5;241m+\u001b[39m \u001b[38;5;28mstr\u001b[39m(state)\n\u001b[0;32m     10\u001b[0m results \u001b[38;5;241m=\u001b[39m geolocator\u001b[38;5;241m.\u001b[39mgeocode(query)\n\u001b[1;32m---> 11\u001b[0m lat \u001b[38;5;241m=\u001b[39m \u001b[43mresults\u001b[49m\u001b[38;5;241;43m.\u001b[39;49m\u001b[43mlatitude\u001b[49m\n\u001b[0;32m     12\u001b[0m long \u001b[38;5;241m=\u001b[39m results\u001b[38;5;241m.\u001b[39mlongitude\n\u001b[0;32m     14\u001b[0m lat_list\u001b[38;5;241m.\u001b[39mappend(lat)\n",
      "\u001b[1;31mAttributeError\u001b[0m: 'NoneType' object has no attribute 'latitude'"
     ]
    }
   ],
   "source": [
    "lat_list= []\n",
    "long_list= []\n",
    "\n",
    "for index, row in UFO.iterrows():\n",
    "    \n",
    "    city = row['city']\n",
    "    state = row['state']\n",
    "    query = str(city) + ',' + str(state)\n",
    "    \n",
    "    results = geolocator.geocode(query)\n",
    "    lat = results.latitude\n",
    "    long = results.longitude\n",
    "    \n",
    "    lat_list.append(lat)\n",
    "    long_list.append(long)\n",
    "\n",
    "UFO['latitude'] = lat_list\n",
    "UFO['longitude'] = long_list"
   ]
  },
  {
   "cell_type": "code",
   "execution_count": null,
   "id": "73cbbc17",
   "metadata": {},
   "outputs": [],
   "source": []
  },
  {
   "cell_type": "code",
   "execution_count": 42,
   "id": "d08a69a4",
   "metadata": {},
   "outputs": [],
   "source": [
    "#Due to the size of the dataframe, I am only mapping reports starting on 1/1/1970\n",
    "UFO = UFO[~(UFO['date'] < '1/1/1970')]\n",
    "BF = BF[~(BF['report_date'] < '1970-01-01')]"
   ]
  },
  {
   "cell_type": "code",
   "execution_count": 43,
   "id": "2a9ef2e1",
   "metadata": {},
   "outputs": [],
   "source": [
    "#Converting to exccel\n",
    "BF.to_excel(r'C:\\Users\\geens\\Desktop\\Data\\BF.xlsx', index=False, header=True)"
   ]
  },
  {
   "cell_type": "code",
   "execution_count": 44,
   "id": "e75b7acf",
   "metadata": {},
   "outputs": [],
   "source": [
    "#Converting to excel\n",
    "UFO.to_excel(r'C:\\Users\\geens\\Desktop\\Data\\UFO.xlsx', index=False, header=True)"
   ]
  }
 ],
 "metadata": {
  "kernelspec": {
   "display_name": "Python 3 (ipykernel)",
   "language": "python",
   "name": "python3"
  },
  "language_info": {
   "codemirror_mode": {
    "name": "ipython",
    "version": 3
   },
   "file_extension": ".py",
   "mimetype": "text/x-python",
   "name": "python",
   "nbconvert_exporter": "python",
   "pygments_lexer": "ipython3",
   "version": "3.10.6"
  },
  "vscode": {
   "interpreter": {
    "hash": "56388a81e87decfa50a34c2f39e75028d8b10046f70d40249ca5dfe9917d2002"
   }
  }
 },
 "nbformat": 4,
 "nbformat_minor": 5
}
