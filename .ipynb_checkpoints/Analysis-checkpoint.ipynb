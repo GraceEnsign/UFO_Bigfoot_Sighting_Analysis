{
 "cells": [
  {
   "cell_type": "markdown",
   "id": "10bbbdf5",
   "metadata": {},
   "source": [
    "<h3> Import packages </h3>"
   ]
  },
  {
   "cell_type": "code",
   "execution_count": 78,
   "id": "ad571894",
   "metadata": {},
   "outputs": [],
   "source": [
    "import pandas as pd\n",
    "import numpy as np\n",
    "import os\n",
    "import time\n",
    "import geocoder\n",
    "from geopy.geocoders import Nominatim"
   ]
  },
  {
   "cell_type": "markdown",
   "id": "d4d5b9e0",
   "metadata": {},
   "source": [
    "<h3> Read in data </h3>"
   ]
  },
  {
   "cell_type": "markdown",
   "id": "ae77b784",
   "metadata": {},
   "source": [
    "Bigfoot data came in two dataframes; location and reports. UFO data came in one dataframe. All three dataframes are very large, so I ran them in separate cells to avoid any issues"
   ]
  },
  {
   "cell_type": "code",
   "execution_count": 79,
   "id": "3878a2de",
   "metadata": {
    "scrolled": true
   },
   "outputs": [],
   "source": [
    "BF_Locations = pd.read_csv(os.path.join(\"https://download.data.world/s/a5gdzsmxenwcwqmnbjaaizbfk4uea3\"))"
   ]
  },
  {
   "cell_type": "code",
   "execution_count": 80,
   "id": "a75323d3",
   "metadata": {},
   "outputs": [],
   "source": [
    "BF_Reports = pd.read_csv(os.path.join(\"https://download.data.world/s/td52m5guv2cpruwjo6pr2cd3fbk5cx\"))"
   ]
  },
  {
   "cell_type": "code",
   "execution_count": 81,
   "id": "4266e8e9",
   "metadata": {},
   "outputs": [],
   "source": [
    "UFO = pd.read_csv(os.path.join(\"https://download.data.world/s/lobqhnvklhbppb4ayke4b23lsupg57\"))"
   ]
  },
  {
   "cell_type": "markdown",
   "id": "b6548e2f",
   "metadata": {},
   "source": [
    "<h3> Cleaning Bigfoot Data </h3>"
   ]
  },
  {
   "cell_type": "markdown",
   "id": "af8d346c",
   "metadata": {},
   "source": [
    "Change column name in bigfoot locations dataframe, in order to merge both bigfoot dataframes into one."
   ]
  },
  {
   "cell_type": "code",
   "execution_count": 82,
   "id": "0c6825fb",
   "metadata": {},
   "outputs": [],
   "source": [
    "BF_Locations = BF_Locations.rename(columns={'number': 'report_number'})"
   ]
  },
  {
   "cell_type": "markdown",
   "id": "f9bdf39a",
   "metadata": {},
   "source": [
    "Merged both bigfoot dataframes to make one cohesive dataframe."
   ]
  },
  {
   "cell_type": "code",
   "execution_count": 83,
   "id": "c0ec6a59",
   "metadata": {
    "scrolled": true
   },
   "outputs": [],
   "source": [
    "BF = pd.merge(BF_Locations, BF_Reports, how='left', left_on='report_number', right_on='report_number')"
   ]
  },
  {
   "cell_type": "markdown",
   "id": "7dfb40a3",
   "metadata": {},
   "source": [
    "Split 'title' column. Title column had both the report and report number. Report number was already given in another cell, so I split the column to obtain the report by itself."
   ]
  },
  {
   "cell_type": "code",
   "execution_count": 84,
   "id": "b6f5e032",
   "metadata": {},
   "outputs": [],
   "source": [
    "BF[['report_number2', 'report']] = BF.pop('title').str.split(pat=':', n=1, expand=True)"
   ]
  },
  {
   "cell_type": "markdown",
   "id": "527ba704",
   "metadata": {},
   "source": [
    "Reformatting the 'timestamp' column, in order to separate the date and time into two columns."
   ]
  },
  {
   "cell_type": "code",
   "execution_count": 85,
   "id": "a1ec3919",
   "metadata": {},
   "outputs": [],
   "source": [
    "BF['timestamp'] = pd.to_datetime(BF['timestamp'], format = \"%Y-%m-%dT%H:%M:%S.%f\")"
   ]
  },
  {
   "cell_type": "markdown",
   "id": "c1709526",
   "metadata": {},
   "source": [
    "Splitting 'timestamp' column."
   ]
  },
  {
   "cell_type": "code",
   "execution_count": 86,
   "id": "5cc12220",
   "metadata": {},
   "outputs": [],
   "source": [
    "BF['report_date'] = BF['timestamp'].dt.date\n",
    "BF['time'] = BF['timestamp'].dt.time"
   ]
  },
  {
   "cell_type": "markdown",
   "id": "49a0ebef",
   "metadata": {},
   "source": [
    "Removing unnecessary columns in bigfoot dataframe."
   ]
  },
  {
   "cell_type": "code",
   "execution_count": 87,
   "id": "556e20b8",
   "metadata": {},
   "outputs": [],
   "source": [
    "BF = BF.drop(['timestamp', 'year', 'season', 'report_class', \n",
    "              'month', 'date', 'a_g_references', 'time', 'report_number2', \n",
    "              'report_number', 'classification', 'county', 'nearest_town', \n",
    "              'nearest_road', 'also_noticed', 'other_witnesses', 'other_stories', \n",
    "              'time_and_conditions', 'environment', 'location_details', 'observed'], axis=1)"
   ]
  },
  {
   "cell_type": "markdown",
   "id": "fe0fa894",
   "metadata": {},
   "source": [
    "Changing 'report date' column to datetime format."
   ]
  },
  {
   "cell_type": "code",
   "execution_count": 88,
   "id": "f6342293",
   "metadata": {},
   "outputs": [],
   "source": [
    "BF['report_date'] = pd.to_datetime(BF['report_date'], errors='coerce')"
   ]
  },
  {
   "cell_type": "markdown",
   "id": "042650d6",
   "metadata": {},
   "source": [
    "Cleaning column names"
   ]
  },
  {
   "cell_type": "code",
   "execution_count": 89,
   "id": "fad90417",
   "metadata": {},
   "outputs": [],
   "source": [
    "BF = BF.rename(columns={'report_date': 'date'})"
   ]
  },
  {
   "cell_type": "markdown",
   "id": "8c6dfed9",
   "metadata": {},
   "source": [
    "<h3> Resizing Data </h3>"
   ]
  },
  {
   "cell_type": "markdown",
   "id": "6a8d6046",
   "metadata": {},
   "source": [
    "Due to how large both the UFO and bigfoot dataframes are, I will be using only the first 1,000 rows for the project."
   ]
  },
  {
   "cell_type": "code",
   "execution_count": 90,
   "id": "b168825e",
   "metadata": {},
   "outputs": [],
   "source": [
    "BF = BF[:1000]\n",
    "UFO = UFO[:1000]"
   ]
  },
  {
   "cell_type": "markdown",
   "id": "3ee58184",
   "metadata": {},
   "source": [
    "<h3> Cleaning UFO Data </h3>"
   ]
  },
  {
   "cell_type": "markdown",
   "id": "7561f660",
   "metadata": {},
   "source": [
    "Removing unnecessary columns."
   ]
  },
  {
   "cell_type": "code",
   "execution_count": 91,
   "id": "897a7261",
   "metadata": {
    "scrolled": true
   },
   "outputs": [],
   "source": [
    "UFO = UFO.drop(['stats', 'report_link', 'text', 'shape', 'duration', 'posted'], axis = 1)"
   ]
  },
  {
   "cell_type": "markdown",
   "id": "cf0feaba",
   "metadata": {},
   "source": [
    "Cleaning column names."
   ]
  },
  {
   "cell_type": "code",
   "execution_count": 92,
   "id": "72dbe823",
   "metadata": {},
   "outputs": [],
   "source": [
    "UFO = UFO.rename(columns={'summary': 'report'})"
   ]
  },
  {
   "cell_type": "markdown",
   "id": "5c14760b",
   "metadata": {},
   "source": [
    "For this project I will only be analyzing sightings in the United States. Here I am removing all other countries."
   ]
  },
  {
   "cell_type": "code",
   "execution_count": 93,
   "id": "bceaeced",
   "metadata": {},
   "outputs": [],
   "source": [
    "UFO = UFO.loc[UFO[\"country\"] == \"USA\"]"
   ]
  },
  {
   "cell_type": "markdown",
   "id": "a8c9fdb5",
   "metadata": {},
   "source": [
    "Splitting 'date_time' column."
   ]
  },
  {
   "cell_type": "code",
   "execution_count": 94,
   "id": "da658c8a",
   "metadata": {},
   "outputs": [],
   "source": [
    "UFO[['date', 'time']] = UFO.pop('date_time').str.split(pat=' ', n=1, expand=True)"
   ]
  },
  {
   "cell_type": "markdown",
   "id": "0cdb64f0",
   "metadata": {},
   "source": [
    "Changing 'date' column to datetime format."
   ]
  },
  {
   "cell_type": "code",
   "execution_count": 95,
   "id": "1ed620bb",
   "metadata": {},
   "outputs": [],
   "source": [
    "UFO['date'] = pd.to_datetime(UFO['date'], errors='coerce')"
   ]
  },
  {
   "cell_type": "markdown",
   "id": "4df1c5b7",
   "metadata": {},
   "source": [
    "Dropping null values."
   ]
  },
  {
   "cell_type": "code",
   "execution_count": 96,
   "id": "7744c464",
   "metadata": {},
   "outputs": [],
   "source": [
    "UFO = UFO[UFO['date'].notna()]\n",
    "UFO = UFO[UFO['city'].notna()]\n",
    "UFO = UFO[UFO['state'].notna()]"
   ]
  },
  {
   "cell_type": "markdown",
   "id": "3169519f",
   "metadata": {},
   "source": [
    "<h3> Cleaning for Geocoding </h3>"
   ]
  },
  {
   "cell_type": "markdown",
   "id": "db0db78f",
   "metadata": {},
   "source": [
    "The goal for this project was to analyze a map of the sighting reports. In order to map the reports I wanted to find the coordinates of the UFO report locations. Bigfoot coordinates were already provided. In order to acquire the longitude and latitude for the UFO reports I used geocoding. My process is shown below."
   ]
  },
  {
   "cell_type": "markdown",
   "id": "9edefcc8",
   "metadata": {},
   "source": [
    "The data from the 'city' and 'state' columns needed to be thoroughly cleaned, or else the geocoding would not work. I started by capitalizing the city names."
   ]
  },
  {
   "cell_type": "code",
   "execution_count": 97,
   "id": "aa8648c6",
   "metadata": {},
   "outputs": [],
   "source": [
    "UFO.city = UFO.city.str.title()"
   ]
  },
  {
   "cell_type": "markdown",
   "id": "cc8ce235",
   "metadata": {},
   "source": [
    "Next the city and state names needed to be cleaned. There was quite a few names that were misspelled, inaccurate, or just vague descriptions. Here I am correcting the errors."
   ]
  },
  {
   "cell_type": "code",
   "execution_count": 98,
   "id": "dba59e79",
   "metadata": {},
   "outputs": [],
   "source": [
    "UFO = UFO.replace({'city':{\n",
    "    'St Augustine Pass Las Cruces':'San Augustin',\n",
    "    'Kentucky (Somewhere In North Central Ky On I-65)': 'Covington',\n",
    "    'Airmont, (Formerly Tallman)': 'Tallman',\n",
    "    'Panther Creek State Park, Close To Morristown, Tennessee': 'Morristown',\n",
    "    'Washington Dc (Suitland, Md)': 'Suitland',\n",
    "    'Saguaro Lake (Mesa)': 'Mesa',\n",
    "    'Grand Rapids - Godwin Heights': 'Grand Rapids',\n",
    "    'Terre Haute (Just E Of; On Interstate 70)': 'Terre Haute',\n",
    "    'Near Jemez': 'Jemez',\n",
    "    ' Eldorado Hills-Placerville (Hwy 50': 'Placerville',\n",
    "    'Odessa (Starkey Ranch)': 'Odessa',\n",
    "    'Staton Island': 'New York City',\n",
    "    'Zoar (Small Town In America)': 'Zoar',\n",
    "    'Lordsburg And Silver City (Between)': 'Lordsburg',\n",
    "    'Swayze': 'Swayzee',\n",
    "    'Brainerd/Gull Lake': 'Brainerd',\n",
    "    'Chrystal River': 'Crystal River',\n",
    "    'Two Or Three Miles Northwest Of Detroit Metro Airport.': 'Detroit',\n",
    "    'Seaford, Long Island': 'Long Island',\n",
    "    'Bosie': 'Boise',\n",
    "    'Seiverville': 'Sevierville',\n",
    "    'Towsan': 'Towson',\n",
    "    'Small Town Off The I-40 Not Sure Which)': 'Null',\n",
    "    'Unkone': 'NaN',\n",
    "    'Unsure Exactly': 'NaN',\n",
    "    'Port St. Lucie': 'Port Saint Lucie',\n",
    "    'De Funiak Springs': 'DeFuniak Springs',\n",
    "    'South Ozone Park, Queens, Nyc': 'New York City',\n",
    "    'St. Louis': 'Saint Louis',\n",
    "    'Forest Hills (Queens; Nyc)': 'New York City',\n",
    "    'Huntsville Alabama': 'Huntsville',\n",
    "    'Idaho National Forest': 'NaN',\n",
    "    'Ft Worth': 'Fort Worth',\n",
    "    'Sellersville/Perkasie, Pa': 'Sellersville',\n",
    "    'Mt. Vernon': 'Mount Vernon',\n",
    "    'Rio Ranco': 'Rio Rancho',\n",
    "    'Forest Hills (Queens)': 'New York City',\n",
    "    'Lauderdale By The Sea Florida': 'Fort Lauderdale',\n",
    "    'Newport Rhode Island': 'Newport',\n",
    "    'Daytona Beach Shores': 'Daytona Beach',\n",
    "    'Ft Pierce': 'Fort Pierce',\n",
    "    'Road Above Stinson Beach': 'Stinson Beach',\n",
    "    'Near The Wisconsin Dells': 'NaN',\n",
    "    'South Of Zortman': 'NaN',\n",
    "    'Pompano Beach Pompano': 'Pompano Beach',\n",
    "    'Lakewood/Edgewater': 'Lakewood',\n",
    "    'Carrabelle Florida': 'Carrabelle',\n",
    "    'Interstate 80': 'NaN',\n",
    "    'Blaine-Outside City Limits': 'Blaine',\n",
    "    'Batesville And Floral': 'Batesville',\n",
    "    'Clarkston, Washington': 'Clarkston',\n",
    "    'Port St Lucie': 'Port Saint Lucie',\n",
    "    'Between Faster,Al And Tuscaloosa, Al': 'Tuscaloosa',\n",
    "    'St. Johns Du Quoin Address': 'Saint Johns',\n",
    "    'St. George': 'Saint George',\n",
    "    '21-Minutes, Flight Time, North Of Phoenix': 'Phoenix',\n",
    "    'Boston Area': 'Boston',\n",
    "    'Near Muhlenburg Airport': 'NaN',\n",
    "    'Taylorsville, Salt Lake, Utah': 'Salt Lake City',\n",
    "    'Orem, Provo': 'Orem',\n",
    "    'N Las Vegas': 'Las Vegas',\n",
    "    'Lafollette And Powell': 'LaFollette',\n",
    "    'St. Joseph': 'Saint Joseph',\n",
    "    'Rosalia, St. John, Colfax Area Of The Palouse': 'Rosalia',\n",
    "    'Wentzville,': 'Wentzville',\n",
    "    'Columbus, Ohio And Surrounding Areas': 'Columbus',\n",
    "    'Monterey Bay/Fort Ord Rifle Range': 'Monterey Bay',\n",
    "    'Woodberry Forest Preparatory School, Va': 'NaN',\n",
    "    'Los Angeles (Over I-10, On Most Rural Bayou Stretch)': 'Los Angeles',\n",
    "    'California Valley (Cattle Country, Not Too Distant Airbase)': 'California Valley',\n",
    "    'Bayfield (Near, Lake Superior, South Shore)': 'Bayfield',\n",
    "    'Between Tacoma And Gig Harbor, Wa': 'NaN',\n",
    "    '20,000 Feet Over Trout Lake, Wa Looking Northwest': 'NaN',\n",
    "    'Thomasville (Usaf Long Range Radar Facility)': 'Thomasville',\n",
    "    'Myrtle Beach, Horry County South Carolina': 'Myrtle Beach',\n",
    "    'Olyimpa': 'Olympia',\n",
    "    'Vancounver': 'Vancouver',\n",
    "    'Mckinelyville': 'Mckinleyville'\n",
    "}})\n",
    "\n",
    "UFO = UFO.replace({'state':{\n",
    "    'Washington, DC': 'MD',\n",
    "    'Cornwall': 'NaN',\n",
    "    '\\nMA': 'MA'\n",
    "}})"
   ]
  },
  {
   "cell_type": "markdown",
   "id": "fd284f0a",
   "metadata": {},
   "source": [
    "There were many entries that were too vague to assign a city, or city names that were actually mistakenly labeled for the incorrect country. Here I am removing those specific rows."
   ]
  },
  {
   "cell_type": "code",
   "execution_count": 99,
   "id": "9ab18c2b",
   "metadata": {},
   "outputs": [],
   "source": [
    "UFO = UFO.drop(labels=[44, 65, 141, 536, 595, 106, 200, 449, 546, 616, 740, 906, 990, 972], axis=0"
   ]
  },
  {
   "cell_type": "markdown",
   "id": "49e0dd9c",
   "metadata": {},
   "source": [
    "Below is the cleaned UFO dataframe before geocoding."
   ]
  },
  {
   "cell_type": "code",
   "execution_count": 100,
   "id": "47376893",
   "metadata": {},
   "outputs": [
    {
     "data": {
      "text/html": [
       "<div>\n",
       "<style scoped>\n",
       "    .dataframe tbody tr th:only-of-type {\n",
       "        vertical-align: middle;\n",
       "    }\n",
       "\n",
       "    .dataframe tbody tr th {\n",
       "        vertical-align: top;\n",
       "    }\n",
       "\n",
       "    .dataframe thead th {\n",
       "        text-align: right;\n",
       "    }\n",
       "</style>\n",
       "<table border=\"1\" class=\"dataframe\">\n",
       "  <thead>\n",
       "    <tr style=\"text-align: right;\">\n",
       "      <th></th>\n",
       "      <th>city</th>\n",
       "      <th>state</th>\n",
       "      <th>country</th>\n",
       "      <th>report</th>\n",
       "      <th>date</th>\n",
       "      <th>time</th>\n",
       "    </tr>\n",
       "  </thead>\n",
       "  <tbody>\n",
       "    <tr>\n",
       "      <th>0</th>\n",
       "      <td>Sisters</td>\n",
       "      <td>OR</td>\n",
       "      <td>USA</td>\n",
       "      <td>Long and narrow illuminated craft flying high ...</td>\n",
       "      <td>2021-05-15</td>\n",
       "      <td>22:36</td>\n",
       "    </tr>\n",
       "    <tr>\n",
       "      <th>1</th>\n",
       "      <td>Sarasota</td>\n",
       "      <td>FL</td>\n",
       "      <td>USA</td>\n",
       "      <td>String of lights</td>\n",
       "      <td>2021-05-10</td>\n",
       "      <td>22:00</td>\n",
       "    </tr>\n",
       "    <tr>\n",
       "      <th>2</th>\n",
       "      <td>Cleveland</td>\n",
       "      <td>TN</td>\n",
       "      <td>USA</td>\n",
       "      <td>30+ lights in a line.</td>\n",
       "      <td>2021-05-05</td>\n",
       "      <td>22:35</td>\n",
       "    </tr>\n",
       "    <tr>\n",
       "      <th>3</th>\n",
       "      <td>Galway</td>\n",
       "      <td>NY</td>\n",
       "      <td>USA</td>\n",
       "      <td>I was standing at my kitchen sink and looked u...</td>\n",
       "      <td>2020-10-16</td>\n",
       "      <td>18:25</td>\n",
       "    </tr>\n",
       "    <tr>\n",
       "      <th>4</th>\n",
       "      <td>Downingtown</td>\n",
       "      <td>PA</td>\n",
       "      <td>USA</td>\n",
       "      <td>Multiple slow moving craft seen all over the s...</td>\n",
       "      <td>2021-06-18</td>\n",
       "      <td>01:00</td>\n",
       "    </tr>\n",
       "  </tbody>\n",
       "</table>\n",
       "</div>"
      ],
      "text/plain": [
       "          city state country  \\\n",
       "0      Sisters    OR     USA   \n",
       "1     Sarasota    FL     USA   \n",
       "2    Cleveland    TN     USA   \n",
       "3       Galway    NY     USA   \n",
       "4  Downingtown    PA     USA   \n",
       "\n",
       "                                              report       date   time  \n",
       "0  Long and narrow illuminated craft flying high ... 2021-05-15  22:36  \n",
       "1                                   String of lights 2021-05-10  22:00  \n",
       "2                              30+ lights in a line. 2021-05-05  22:35  \n",
       "3  I was standing at my kitchen sink and looked u... 2020-10-16  18:25  \n",
       "4  Multiple slow moving craft seen all over the s... 2021-06-18  01:00  "
      ]
     },
     "execution_count": 100,
     "metadata": {},
     "output_type": "execute_result"
    }
   ],
   "source": [
    "UFO.head()"
   ]
  },
  {
   "cell_type": "markdown",
   "id": "a323c942",
   "metadata": {},
   "source": [
    "<h3> Geocoding </h3>"
   ]
  },
  {
   "cell_type": "markdown",
   "id": "a8f05c3b",
   "metadata": {},
   "source": [
    "Due to the time it takes for the geocoding to process, I will be showing the code used for the geocoding, but then exporting the results. The below code was ran to obtain the longitude and latitude results, then commented out so users can simply import the results (which is done below) or can uncomment the below code to run it themselves. For me the process took approximately seven minutes, but that can vary per user."
   ]
  },
  {
   "cell_type": "markdown",
   "id": "1da1f02e",
   "metadata": {},
   "source": [
    "Connecting to API"
   ]
  },
  {
   "cell_type": "code",
   "execution_count": 48,
   "id": "88d7c334",
   "metadata": {},
   "outputs": [
    {
     "name": "stdout",
     "output_type": "stream",
     "text": [
      "Louisville, Jefferson County, Kentucky, United States\n"
     ]
    }
   ],
   "source": [
    "\"\"\"geolocator = Nominatim(user_agent=\"MyApp\")\n",
    "query= 'Louisville, Ky'\n",
    "results = geolocator.geocode(query)\n",
    "print(results)\"\"\""
   ]
  },
  {
   "cell_type": "markdown",
   "id": "aed669e8",
   "metadata": {},
   "source": [
    "Conducting the geocoding. City and state columns were acquired to obtain longitude and latitude coordinates, and then assigned to appropriate columns."
   ]
  },
  {
   "cell_type": "code",
   "execution_count": 49,
   "id": "403cbed7",
   "metadata": {},
   "outputs": [],
   "source": [
    "\"\"\"lat_list= []\n",
    "long_list= []\n",
    "\n",
    "incorrect_cities = []\n",
    "\n",
    "for index, row in UFO.iterrows():\n",
    "    \n",
    "    city = row['city']\n",
    "    state = row['state']\n",
    "    query = str(city) + ',' + str(state)\n",
    "    \n",
    "    results = geolocator.geocode(query)\n",
    "    \n",
    "    if results:\n",
    "        lat = results.latitude\n",
    "        long = results.longitude\n",
    "    \n",
    "    else:\n",
    "        incorrect_cities.append(query)\n",
    "    \n",
    "    lat_list.append(lat)\n",
    "    long_list.append(long)\n",
    "    \n",
    "    time.sleep(0.1)\n",
    "\n",
    "UFO['latitude'] = lat_list\n",
    "UFO['longitude'] = long_list\"\"\""
   ]
  },
  {
   "cell_type": "markdown",
   "id": "c149159f",
   "metadata": {},
   "source": [
    "If any city names were incorrect, they were shown below. This is how I was able to replace the city names above."
   ]
  },
  {
   "cell_type": "code",
   "execution_count": 25,
   "id": "82a458f9",
   "metadata": {
    "scrolled": true
   },
   "outputs": [
    {
     "data": {
      "text/plain": [
       "[]"
      ]
     },
     "execution_count": 25,
     "metadata": {},
     "output_type": "execute_result"
    }
   ],
   "source": [
    "\"\"\"incorrect_cities\"\"\""
   ]
  },
  {
   "cell_type": "markdown",
   "id": "a7c94ced",
   "metadata": {},
   "source": [
    "New UFO dataframe with added longitude and latitude columns."
   ]
  },
  {
   "cell_type": "code",
   "execution_count": 51,
   "id": "138bf174",
   "metadata": {},
   "outputs": [
    {
     "data": {
      "text/html": [
       "<div>\n",
       "<style scoped>\n",
       "    .dataframe tbody tr th:only-of-type {\n",
       "        vertical-align: middle;\n",
       "    }\n",
       "\n",
       "    .dataframe tbody tr th {\n",
       "        vertical-align: top;\n",
       "    }\n",
       "\n",
       "    .dataframe thead th {\n",
       "        text-align: right;\n",
       "    }\n",
       "</style>\n",
       "<table border=\"1\" class=\"dataframe\">\n",
       "  <thead>\n",
       "    <tr style=\"text-align: right;\">\n",
       "      <th></th>\n",
       "      <th>city</th>\n",
       "      <th>state</th>\n",
       "      <th>country</th>\n",
       "      <th>report</th>\n",
       "      <th>date</th>\n",
       "      <th>time</th>\n",
       "      <th>latitude</th>\n",
       "      <th>longitude</th>\n",
       "    </tr>\n",
       "  </thead>\n",
       "  <tbody>\n",
       "    <tr>\n",
       "      <th>0</th>\n",
       "      <td>Sisters</td>\n",
       "      <td>OR</td>\n",
       "      <td>USA</td>\n",
       "      <td>Long and narrow illuminated craft flying high ...</td>\n",
       "      <td>2021-05-15</td>\n",
       "      <td>22:36</td>\n",
       "      <td>44.290948</td>\n",
       "      <td>-121.549252</td>\n",
       "    </tr>\n",
       "    <tr>\n",
       "      <th>1</th>\n",
       "      <td>Sarasota</td>\n",
       "      <td>FL</td>\n",
       "      <td>USA</td>\n",
       "      <td>String of lights</td>\n",
       "      <td>2021-05-10</td>\n",
       "      <td>22:00</td>\n",
       "      <td>27.336581</td>\n",
       "      <td>-82.530855</td>\n",
       "    </tr>\n",
       "    <tr>\n",
       "      <th>2</th>\n",
       "      <td>Cleveland</td>\n",
       "      <td>TN</td>\n",
       "      <td>USA</td>\n",
       "      <td>30+ lights in a line.</td>\n",
       "      <td>2021-05-05</td>\n",
       "      <td>22:35</td>\n",
       "      <td>35.159518</td>\n",
       "      <td>-84.876611</td>\n",
       "    </tr>\n",
       "    <tr>\n",
       "      <th>3</th>\n",
       "      <td>Galway</td>\n",
       "      <td>NY</td>\n",
       "      <td>USA</td>\n",
       "      <td>I was standing at my kitchen sink and looked u...</td>\n",
       "      <td>2020-10-16</td>\n",
       "      <td>18:25</td>\n",
       "      <td>43.018686</td>\n",
       "      <td>-74.031516</td>\n",
       "    </tr>\n",
       "    <tr>\n",
       "      <th>4</th>\n",
       "      <td>Downingtown</td>\n",
       "      <td>PA</td>\n",
       "      <td>USA</td>\n",
       "      <td>Multiple slow moving craft seen all over the s...</td>\n",
       "      <td>2021-06-18</td>\n",
       "      <td>01:00</td>\n",
       "      <td>40.006496</td>\n",
       "      <td>-75.703274</td>\n",
       "    </tr>\n",
       "  </tbody>\n",
       "</table>\n",
       "</div>"
      ],
      "text/plain": [
       "          city state country  \\\n",
       "0      Sisters    OR     USA   \n",
       "1     Sarasota    FL     USA   \n",
       "2    Cleveland    TN     USA   \n",
       "3       Galway    NY     USA   \n",
       "4  Downingtown    PA     USA   \n",
       "\n",
       "                                              report       date   time  \\\n",
       "0  Long and narrow illuminated craft flying high ... 2021-05-15  22:36   \n",
       "1                                   String of lights 2021-05-10  22:00   \n",
       "2                              30+ lights in a line. 2021-05-05  22:35   \n",
       "3  I was standing at my kitchen sink and looked u... 2020-10-16  18:25   \n",
       "4  Multiple slow moving craft seen all over the s... 2021-06-18  01:00   \n",
       "\n",
       "    latitude   longitude  \n",
       "0  44.290948 -121.549252  \n",
       "1  27.336581  -82.530855  \n",
       "2  35.159518  -84.876611  \n",
       "3  43.018686  -74.031516  \n",
       "4  40.006496  -75.703274  "
      ]
     },
     "execution_count": 51,
     "metadata": {},
     "output_type": "execute_result"
    }
   ],
   "source": [
    "\"\"\"UFO.head()\"\"\""
   ]
  },
  {
   "cell_type": "markdown",
   "id": "32103a4e",
   "metadata": {},
   "source": [
    "Exporting the latitude and longitude columns into a json file."
   ]
  },
  {
   "cell_type": "code",
   "execution_count": 52,
   "id": "e220af05",
   "metadata": {},
   "outputs": [],
   "source": [
    "\"\"\"UFO.loc[:, ['latitude', 'longitude']].to_json('coords.json')\"\"\""
   ]
  },
  {
   "cell_type": "markdown",
   "id": "61bf6858",
   "metadata": {},
   "source": [
    "<h3> Reading in Geocoding </h3>"
   ]
  },
  {
   "cell_type": "markdown",
   "id": "a91eadbc",
   "metadata": {},
   "source": [
    "Below the user is able to read in the exported json we did above. "
   ]
  },
  {
   "cell_type": "code",
   "execution_count": 76,
   "id": "7aa3ef36",
   "metadata": {},
   "outputs": [],
   "source": [
    "coords = pd.read_json(\"coords.json\")\n",
    "UFO.loc[:, ['latitude', 'longitude']] = coords.loc[:, ['latitude', 'longitude']]"
   ]
  },
  {
   "cell_type": "markdown",
   "id": "acd5cfc9",
   "metadata": {},
   "source": [
    "UFO dataframe. Should be the same as the dataframe shown after the geocoding."
   ]
  },
  {
   "cell_type": "code",
   "execution_count": 77,
   "id": "142e9dbe",
   "metadata": {},
   "outputs": [
    {
     "data": {
      "text/html": [
       "<div>\n",
       "<style scoped>\n",
       "    .dataframe tbody tr th:only-of-type {\n",
       "        vertical-align: middle;\n",
       "    }\n",
       "\n",
       "    .dataframe tbody tr th {\n",
       "        vertical-align: top;\n",
       "    }\n",
       "\n",
       "    .dataframe thead th {\n",
       "        text-align: right;\n",
       "    }\n",
       "</style>\n",
       "<table border=\"1\" class=\"dataframe\">\n",
       "  <thead>\n",
       "    <tr style=\"text-align: right;\">\n",
       "      <th></th>\n",
       "      <th>city</th>\n",
       "      <th>state</th>\n",
       "      <th>country</th>\n",
       "      <th>report</th>\n",
       "      <th>date</th>\n",
       "      <th>time</th>\n",
       "      <th>latitude</th>\n",
       "      <th>longitude</th>\n",
       "    </tr>\n",
       "  </thead>\n",
       "  <tbody>\n",
       "    <tr>\n",
       "      <th>0</th>\n",
       "      <td>Sisters</td>\n",
       "      <td>OR</td>\n",
       "      <td>USA</td>\n",
       "      <td>Long and narrow illuminated craft flying high ...</td>\n",
       "      <td>2021-05-15</td>\n",
       "      <td>22:36</td>\n",
       "      <td>44.290948</td>\n",
       "      <td>-121.549252</td>\n",
       "    </tr>\n",
       "    <tr>\n",
       "      <th>1</th>\n",
       "      <td>Sarasota</td>\n",
       "      <td>FL</td>\n",
       "      <td>USA</td>\n",
       "      <td>String of lights</td>\n",
       "      <td>2021-05-10</td>\n",
       "      <td>22:00</td>\n",
       "      <td>27.336581</td>\n",
       "      <td>-82.530855</td>\n",
       "    </tr>\n",
       "    <tr>\n",
       "      <th>2</th>\n",
       "      <td>Cleveland</td>\n",
       "      <td>TN</td>\n",
       "      <td>USA</td>\n",
       "      <td>30+ lights in a line.</td>\n",
       "      <td>2021-05-05</td>\n",
       "      <td>22:35</td>\n",
       "      <td>35.159518</td>\n",
       "      <td>-84.876611</td>\n",
       "    </tr>\n",
       "    <tr>\n",
       "      <th>3</th>\n",
       "      <td>Galway</td>\n",
       "      <td>NY</td>\n",
       "      <td>USA</td>\n",
       "      <td>I was standing at my kitchen sink and looked u...</td>\n",
       "      <td>2020-10-16</td>\n",
       "      <td>18:25</td>\n",
       "      <td>43.018686</td>\n",
       "      <td>-74.031516</td>\n",
       "    </tr>\n",
       "    <tr>\n",
       "      <th>4</th>\n",
       "      <td>Downingtown</td>\n",
       "      <td>PA</td>\n",
       "      <td>USA</td>\n",
       "      <td>Multiple slow moving craft seen all over the s...</td>\n",
       "      <td>2021-06-18</td>\n",
       "      <td>01:00</td>\n",
       "      <td>40.006496</td>\n",
       "      <td>-75.703274</td>\n",
       "    </tr>\n",
       "  </tbody>\n",
       "</table>\n",
       "</div>"
      ],
      "text/plain": [
       "          city state country  \\\n",
       "0      Sisters    OR     USA   \n",
       "1     Sarasota    FL     USA   \n",
       "2    Cleveland    TN     USA   \n",
       "3       Galway    NY     USA   \n",
       "4  Downingtown    PA     USA   \n",
       "\n",
       "                                              report       date   time  \\\n",
       "0  Long and narrow illuminated craft flying high ... 2021-05-15  22:36   \n",
       "1                                   String of lights 2021-05-10  22:00   \n",
       "2                              30+ lights in a line. 2021-05-05  22:35   \n",
       "3  I was standing at my kitchen sink and looked u... 2020-10-16  18:25   \n",
       "4  Multiple slow moving craft seen all over the s... 2021-06-18  01:00   \n",
       "\n",
       "    latitude   longitude  \n",
       "0  44.290948 -121.549252  \n",
       "1  27.336581  -82.530855  \n",
       "2  35.159518  -84.876611  \n",
       "3  43.018686  -74.031516  \n",
       "4  40.006496  -75.703274  "
      ]
     },
     "execution_count": 77,
     "metadata": {},
     "output_type": "execute_result"
    }
   ],
   "source": [
    "UFO.head()"
   ]
  },
  {
   "cell_type": "markdown",
   "id": "5b0022bb",
   "metadata": {},
   "source": [
    "Dropping rows not needed for Tableau mapping."
   ]
  },
  {
   "cell_type": "code",
   "execution_count": 26,
   "id": "e5961bbd",
   "metadata": {},
   "outputs": [],
   "source": [
    "UFO = UFO.drop(['time', 'city', 'country'], axis = 1)"
   ]
  },
  {
   "cell_type": "markdown",
   "id": "932377c8",
   "metadata": {},
   "source": [
    "<h3> Exporting Cleaned Dataframes </h3>"
   ]
  },
  {
   "cell_type": "markdown",
   "id": "15e5a6ad",
   "metadata": {},
   "source": [
    "Tableau is unable to read in Jupyter Notebook files. Below I am exporting both dataframes into one excel file, but on separate sheets, in order to then read in to Tableau."
   ]
  },
  {
   "cell_type": "code",
   "execution_count": 29,
   "id": "43f80a30",
   "metadata": {},
   "outputs": [],
   "source": [
    "with pd.ExcelWriter('UFO_BF.xlsx') as writer:\n",
    "    BF.to_excel(writer, sheet_name='BF')\n",
    "    UFO.to_excel(writer, sheet_name='UFO')"
   ]
  }
 ],
 "metadata": {
  "kernelspec": {
   "display_name": "Python 3 (ipykernel)",
   "language": "python",
   "name": "python3"
  },
  "language_info": {
   "codemirror_mode": {
    "name": "ipython",
    "version": 3
   },
   "file_extension": ".py",
   "mimetype": "text/x-python",
   "name": "python",
   "nbconvert_exporter": "python",
   "pygments_lexer": "ipython3",
   "version": "3.10.6"
  },
  "vscode": {
   "interpreter": {
    "hash": "56388a81e87decfa50a34c2f39e75028d8b10046f70d40249ca5dfe9917d2002"
   }
  }
 },
 "nbformat": 4,
 "nbformat_minor": 5
}
