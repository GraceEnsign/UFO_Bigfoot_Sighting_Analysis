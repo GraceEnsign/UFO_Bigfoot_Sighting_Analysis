{
 "cells": [
  {
   "cell_type": "code",
   "execution_count": 1,
   "id": "ad571894",
   "metadata": {},
   "outputs": [],
   "source": [
    "#Import packages\n",
    "import pandas as pd\n",
    "import numpy as np\n",
    "import os\n",
    "import time\n",
    "import geocoder\n",
    "from geopy.geocoders import Nominatim"
   ]
  },
  {
   "cell_type": "code",
   "execution_count": 2,
   "id": "3878a2de",
   "metadata": {
    "scrolled": true
   },
   "outputs": [],
   "source": [
    "#Read in BF locations data\n",
    "BF_Locations = pd.read_csv(os.path.join(\"https://download.data.world/s/a5gdzsmxenwcwqmnbjaaizbfk4uea3\"))\n",
    "BF_Reports = pd.read_csv(os.path.join(\"https://download.data.world/s/td52m5guv2cpruwjo6pr2cd3fbk5cx\"))"
   ]
  },
  {
   "cell_type": "code",
   "execution_count": 3,
   "id": "4266e8e9",
   "metadata": {},
   "outputs": [],
   "source": [
    "#Read in UFO data (may take a minute due to size)\n",
    "UFO = pd.read_csv(os.path.join(\"https://download.data.world/s/lobqhnvklhbppb4ayke4b23lsupg57\"))"
   ]
  },
  {
   "cell_type": "code",
   "execution_count": 4,
   "id": "0c6825fb",
   "metadata": {},
   "outputs": [],
   "source": [
    "#Change column name in BF locations dataframe\n",
    "BF_Locations = BF_Locations.rename(columns={'number': 'report_number'})"
   ]
  },
  {
   "cell_type": "code",
   "execution_count": 5,
   "id": "c0ec6a59",
   "metadata": {
    "scrolled": true
   },
   "outputs": [],
   "source": [
    "#Merge two BF datasets\n",
    "BF = pd.merge(BF_Locations, BF_Reports, how='left', left_on='report_number', right_on='report_number')"
   ]
  },
  {
   "cell_type": "code",
   "execution_count": 6,
   "id": "b6f5e032",
   "metadata": {},
   "outputs": [],
   "source": [
    "#Split BF 'title' column by report number and report\n",
    "BF[['report_number2', 'report']] = BF.pop('title').str.split(pat=':', n=1, expand=True)"
   ]
  },
  {
   "cell_type": "code",
   "execution_count": 7,
   "id": "a1ec3919",
   "metadata": {},
   "outputs": [],
   "source": [
    "#Reformatting BF timestamp column\n",
    "BF['timestamp'] = pd.to_datetime(BF['timestamp'], format = \"%Y-%m-%dT%H:%M:%S.%f\")"
   ]
  },
  {
   "cell_type": "code",
   "execution_count": 8,
   "id": "5cc12220",
   "metadata": {},
   "outputs": [],
   "source": [
    "#Splitting BF timestamp column\n",
    "BF['report_date'] = BF['timestamp'].dt.date\n",
    "BF['time'] = BF['timestamp'].dt.time"
   ]
  },
  {
   "cell_type": "code",
   "execution_count": 9,
   "id": "556e20b8",
   "metadata": {},
   "outputs": [],
   "source": [
    "#Removing unnecessary columns in BF dataframe\n",
    "BF = BF.drop(['timestamp', 'year', 'season', 'report_class', \n",
    "              'month', 'date', 'a_g_references', 'time', 'report_number2'], axis=1)"
   ]
  },
  {
   "cell_type": "code",
   "execution_count": 10,
   "id": "f6342293",
   "metadata": {},
   "outputs": [],
   "source": [
    "#Changing dates to datetime format\n",
    "BF['report_date'] = pd.to_datetime(BF['report_date'], errors='coerce')"
   ]
  },
  {
   "cell_type": "code",
   "execution_count": 11,
   "id": "0e61acbc",
   "metadata": {},
   "outputs": [],
   "source": [
    "#Due to the size of the UFO dataframe, I will be using only the first 1000 rows, to match the amount of rows in the BF dataframe.\n",
    "UFO = UFO[:1000]"
   ]
  },
  {
   "cell_type": "code",
   "execution_count": 12,
   "id": "897a7261",
   "metadata": {},
   "outputs": [],
   "source": [
    "#Drop unnecessary columns\n",
    "UFO = UFO.drop(['stats', 'report_link', 'text'], axis = 1)"
   ]
  },
  {
   "cell_type": "code",
   "execution_count": 13,
   "id": "bceaeced",
   "metadata": {},
   "outputs": [],
   "source": [
    "#Remove all countries other than USA\n",
    "UFO = UFO.loc[UFO[\"country\"] == \"USA\"]"
   ]
  },
  {
   "cell_type": "code",
   "execution_count": 14,
   "id": "da658c8a",
   "metadata": {},
   "outputs": [],
   "source": [
    "#Split 'date_time' column\n",
    "UFO[['date', 'time']] = UFO.pop('date_time').str.split(pat=' ', n=1, expand=True)"
   ]
  },
  {
   "cell_type": "code",
   "execution_count": 15,
   "id": "1ed620bb",
   "metadata": {},
   "outputs": [],
   "source": [
    "#Changing dates to datetime format\n",
    "UFO['date'] = pd.to_datetime(UFO['date'], errors='coerce')"
   ]
  },
  {
   "cell_type": "code",
   "execution_count": 16,
   "id": "7744c464",
   "metadata": {},
   "outputs": [],
   "source": [
    "#Dropping null values\n",
    "UFO = UFO[UFO['date'].notna()]\n",
    "UFO = UFO[UFO['city'].notna()]\n",
    "UFO = UFO[UFO['state'].notna()]"
   ]
  },
  {
   "cell_type": "code",
   "execution_count": 17,
   "id": "aa8648c6",
   "metadata": {},
   "outputs": [],
   "source": [
    "#Capitalizing city names\n",
    "UFO.city = UFO.city.str.title()"
   ]
  },
  {
   "cell_type": "code",
   "execution_count": 29,
   "id": "dba59e79",
   "metadata": {},
   "outputs": [],
   "source": [
    "#Replacing any incorrect city or state names. \n",
    "UFO = UFO.replace({'city':{\n",
    "    'St Augustine Pass Las Cruces':'San Augustin',\n",
    "    'Kentucky (Somewhere In North Central Ky On I-65)': 'Covington',\n",
    "    'Airmont, (Formerly Tallman)': 'Tallman',\n",
    "    'Panther Creek State Park, Close To Morristown, Tennessee': 'Morristown',\n",
    "    'Washington Dc (Suitland, Md)': 'Suitland',\n",
    "    'Saguaro Lake (Mesa)': 'Mesa',\n",
    "    'Grand Rapids - Godwin Heights': 'Grand Rapids',\n",
    "    'Terre Haute (Just E Of; On Interstate 70)': 'Terre Haute',\n",
    "    'Near Jemez': 'Jemez',\n",
    "    ' Eldorado Hills-Placerville (Hwy 50': 'Placerville',\n",
    "    'Odessa (Starkey Ranch)': 'Odessa',\n",
    "    'Staton Island': 'New York City',\n",
    "    'Zoar (Small Town In America)': 'Zoar',\n",
    "    'Lordsburg And Silver City (Between)': 'Lordsburg',\n",
    "    'Swayze': 'Swayzee',\n",
    "    'Brainerd/Gull Lake': 'Brainerd',\n",
    "    'Chrystal River': 'Crystal River',\n",
    "    'Two Or Three Miles Northwest Of Detroit Metro Airport.': 'Detroit',\n",
    "    'Seaford, Long Island': 'Long Island',\n",
    "    'Bosie': 'Boise',\n",
    "    'Seiverville': 'Sevierville',\n",
    "    'Towsan': 'Towson',\n",
    "    'Small Town Off The I-40 Not Sure Which)': 'Null',\n",
    "    'Unkone': 'NaN',\n",
    "    'Unsure Exactly': 'NaN',\n",
    "    'Port St. Lucie': 'Port Saint Lucie',\n",
    "    'De Funiak Springs': 'DeFuniak Springs',\n",
    "    'South Ozone Park, Queens, Nyc': 'New York City',\n",
    "    'St. Louis': 'Saint Louis',\n",
    "    'Forest Hills (Queens; Nyc)': 'New York City',\n",
    "    'Huntsville Alabama': 'Huntsville',\n",
    "    'Idaho National Forest': 'NaN',\n",
    "    'Ft Worth': 'Fort Worth',\n",
    "    'Sellersville/Perkasie, Pa': 'Sellersville',\n",
    "    'Mt. Vernon': 'Mount Vernon',\n",
    "    'Rio Ranco': 'Rio Rancho',\n",
    "    'Forest Hills (Queens)': 'New York City',\n",
    "    'Lauderdale By The Sea Florida': 'Fort Lauderdale',\n",
    "    'Newport Rhode Island': 'Newport',\n",
    "    'Daytona Beach Shores': 'Daytona Beach',\n",
    "    'Ft Pierce': 'Fort Pierce',\n",
    "    'Road Above Stinson Beach': 'Stinson Beach',\n",
    "    'Near The Wisconsin Dells': 'NaN',\n",
    "    'South Of Zortman': 'NaN',\n",
    "    'Pompano Beach Pompano': 'Pompano Beach',\n",
    "    'Lakewood/Edgewater': 'Lakewood',\n",
    "    'Carrabelle Florida': 'Carrabelle',\n",
    "    'Interstate 80': 'NaN',\n",
    "    'Blaine-Outside City Limits': 'Blaine',\n",
    "    'Batesville And Floral': 'Batesville',\n",
    "    'Clarkston, Washington': 'Clarkston',\n",
    "    'Port St Lucie': 'Port Saint Lucie',\n",
    "    'Between Faster,Al And Tuscaloosa, Al': 'Tuscaloosa',\n",
    "    'St. Johns Du Quoin Address': 'Saint Johns',\n",
    "    'St. George': 'Saint George',\n",
    "    '21-Minutes, Flight Time, North Of Phoenix': 'Phoenix',\n",
    "    'Boston Area': 'Boston',\n",
    "    'Near Muhlenburg Airport': 'NaN',\n",
    "    'Taylorsville, Salt Lake, Utah': 'Salt Lake City',\n",
    "    'Orem, Provo': 'Orem',\n",
    "    'N Las Vegas': 'Las Vegas',\n",
    "    'Lafollette And Powell': 'LaFollette',\n",
    "    'St. Joseph': 'Saint Joseph',\n",
    "    'Rosalia, St. John, Colfax Area Of The Palouse': 'Rosalia',\n",
    "    'Wentzville,': 'Wentzville',\n",
    "    'Columbus, Ohio And Surrounding Areas': 'Columbus',\n",
    "    'Monterey Bay/Fort Ord Rifle Range': 'Monterey Bay',\n",
    "    'Woodberry Forest Preparatory School, Va': 'NaN',\n",
    "    'Los Angeles (Over I-10, On Most Rural Bayou Stretch)': 'Los Angeles',\n",
    "    'California Valley (Cattle Country, Not Too Distant Airbase)': 'California Valley',\n",
    "    'Bayfield (Near, Lake Superior, South Shore)': 'Bayfield',\n",
    "    'Between Tacoma And Gig Harbor, Wa': 'NaN',\n",
    "    '20,000 Feet Over Trout Lake, Wa Looking Northwest': 'NaN',\n",
    "    'Thomasville (Usaf Long Range Radar Facility)': 'Thomasville',\n",
    "    'Myrtle Beach, Horry County South Carolina': 'Myrtle Beach',\n",
    "    'Olyimpa': 'Olympia',\n",
    "    'Vancounver': 'Vancouver',\n",
    "    'Mckinelyville': 'Mckinleyville'\n",
    "}})\n",
    "\n",
    "UFO = UFO.replace({'state':{\n",
    "    'Washington, DC': 'MD',\n",
    "    'Cornwall': 'NaN',\n",
    "    '\\nMA': 'MA'\n",
    "}})"
   ]
  },
  {
   "cell_type": "code",
   "execution_count": 30,
   "id": "9ab18c2b",
   "metadata": {
    "collapsed": true
   },
   "outputs": [
    {
     "ename": "KeyError",
     "evalue": "'[44, 65, 141, 536, 595, 106, 200, 449, 546, 616, 740, 906, 990, 972] not found in axis'",
     "output_type": "error",
     "traceback": [
      "\u001b[1;31m---------------------------------------------------------------------------\u001b[0m",
      "\u001b[1;31mKeyError\u001b[0m                                  Traceback (most recent call last)",
      "Input \u001b[1;32mIn [30]\u001b[0m, in \u001b[0;36m<cell line: 10>\u001b[1;34m()\u001b[0m\n\u001b[0;32m      1\u001b[0m \u001b[38;5;66;03m#Canada somehow still snuck in\u001b[39;00m\n\u001b[0;32m      2\u001b[0m \u001b[38;5;66;03m#UFO = UFO.drop(labels=[65], axis=0)\u001b[39;00m\n\u001b[0;32m      3\u001b[0m \u001b[38;5;66;03m#Removing Guam, only doing United States for mapping purposes\u001b[39;00m\n\u001b[1;32m   (...)\u001b[0m\n\u001b[0;32m      7\u001b[0m \u001b[38;5;66;03m#UFO = UFO.drop(labels=[536], axis=0)\u001b[39;00m\n\u001b[0;32m      8\u001b[0m \u001b[38;5;66;03m#UFO = UFO.drop(labels=[595], axis=0)\u001b[39;00m\n\u001b[1;32m---> 10\u001b[0m UFO \u001b[38;5;241m=\u001b[39m \u001b[43mUFO\u001b[49m\u001b[38;5;241;43m.\u001b[39;49m\u001b[43mdrop\u001b[49m\u001b[43m(\u001b[49m\u001b[43mlabels\u001b[49m\u001b[38;5;241;43m=\u001b[39;49m\u001b[43m[\u001b[49m\u001b[38;5;241;43m44\u001b[39;49m\u001b[43m,\u001b[49m\u001b[43m \u001b[49m\u001b[38;5;241;43m65\u001b[39;49m\u001b[43m,\u001b[49m\u001b[43m \u001b[49m\u001b[38;5;241;43m141\u001b[39;49m\u001b[43m,\u001b[49m\u001b[43m \u001b[49m\u001b[38;5;241;43m536\u001b[39;49m\u001b[43m,\u001b[49m\u001b[43m \u001b[49m\u001b[38;5;241;43m595\u001b[39;49m\u001b[43m,\u001b[49m\u001b[43m \u001b[49m\u001b[38;5;241;43m106\u001b[39;49m\u001b[43m,\u001b[49m\u001b[43m \u001b[49m\u001b[38;5;241;43m200\u001b[39;49m\u001b[43m,\u001b[49m\u001b[43m \u001b[49m\u001b[38;5;241;43m449\u001b[39;49m\u001b[43m,\u001b[49m\u001b[43m \u001b[49m\u001b[38;5;241;43m546\u001b[39;49m\u001b[43m,\u001b[49m\u001b[43m \u001b[49m\u001b[38;5;241;43m616\u001b[39;49m\u001b[43m,\u001b[49m\u001b[43m \u001b[49m\u001b[38;5;241;43m740\u001b[39;49m\u001b[43m,\u001b[49m\u001b[43m \u001b[49m\u001b[38;5;241;43m906\u001b[39;49m\u001b[43m,\u001b[49m\u001b[43m \u001b[49m\u001b[38;5;241;43m990\u001b[39;49m\u001b[43m,\u001b[49m\u001b[43m \u001b[49m\u001b[38;5;241;43m972\u001b[39;49m\u001b[43m]\u001b[49m\u001b[43m,\u001b[49m\u001b[43m \u001b[49m\u001b[43maxis\u001b[49m\u001b[38;5;241;43m=\u001b[39;49m\u001b[38;5;241;43m0\u001b[39;49m\u001b[43m)\u001b[49m\n",
      "File \u001b[1;32m~\\anaconda3\\envs\\Python3104\\lib\\site-packages\\pandas\\util\\_decorators.py:311\u001b[0m, in \u001b[0;36mdeprecate_nonkeyword_arguments.<locals>.decorate.<locals>.wrapper\u001b[1;34m(*args, **kwargs)\u001b[0m\n\u001b[0;32m    305\u001b[0m \u001b[38;5;28;01mif\u001b[39;00m \u001b[38;5;28mlen\u001b[39m(args) \u001b[38;5;241m>\u001b[39m num_allow_args:\n\u001b[0;32m    306\u001b[0m     warnings\u001b[38;5;241m.\u001b[39mwarn(\n\u001b[0;32m    307\u001b[0m         msg\u001b[38;5;241m.\u001b[39mformat(arguments\u001b[38;5;241m=\u001b[39marguments),\n\u001b[0;32m    308\u001b[0m         \u001b[38;5;167;01mFutureWarning\u001b[39;00m,\n\u001b[0;32m    309\u001b[0m         stacklevel\u001b[38;5;241m=\u001b[39mstacklevel,\n\u001b[0;32m    310\u001b[0m     )\n\u001b[1;32m--> 311\u001b[0m \u001b[38;5;28;01mreturn\u001b[39;00m func(\u001b[38;5;241m*\u001b[39margs, \u001b[38;5;241m*\u001b[39m\u001b[38;5;241m*\u001b[39mkwargs)\n",
      "File \u001b[1;32m~\\anaconda3\\envs\\Python3104\\lib\\site-packages\\pandas\\core\\frame.py:4954\u001b[0m, in \u001b[0;36mDataFrame.drop\u001b[1;34m(self, labels, axis, index, columns, level, inplace, errors)\u001b[0m\n\u001b[0;32m   4806\u001b[0m \u001b[38;5;129m@deprecate_nonkeyword_arguments\u001b[39m(version\u001b[38;5;241m=\u001b[39m\u001b[38;5;28;01mNone\u001b[39;00m, allowed_args\u001b[38;5;241m=\u001b[39m[\u001b[38;5;124m\"\u001b[39m\u001b[38;5;124mself\u001b[39m\u001b[38;5;124m\"\u001b[39m, \u001b[38;5;124m\"\u001b[39m\u001b[38;5;124mlabels\u001b[39m\u001b[38;5;124m\"\u001b[39m])\n\u001b[0;32m   4807\u001b[0m \u001b[38;5;28;01mdef\u001b[39;00m \u001b[38;5;21mdrop\u001b[39m(\n\u001b[0;32m   4808\u001b[0m     \u001b[38;5;28mself\u001b[39m,\n\u001b[1;32m   (...)\u001b[0m\n\u001b[0;32m   4815\u001b[0m     errors: \u001b[38;5;28mstr\u001b[39m \u001b[38;5;241m=\u001b[39m \u001b[38;5;124m\"\u001b[39m\u001b[38;5;124mraise\u001b[39m\u001b[38;5;124m\"\u001b[39m,\n\u001b[0;32m   4816\u001b[0m ):\n\u001b[0;32m   4817\u001b[0m     \u001b[38;5;124;03m\"\"\"\u001b[39;00m\n\u001b[0;32m   4818\u001b[0m \u001b[38;5;124;03m    Drop specified labels from rows or columns.\u001b[39;00m\n\u001b[0;32m   4819\u001b[0m \n\u001b[1;32m   (...)\u001b[0m\n\u001b[0;32m   4952\u001b[0m \u001b[38;5;124;03m            weight  1.0     0.8\u001b[39;00m\n\u001b[0;32m   4953\u001b[0m \u001b[38;5;124;03m    \"\"\"\u001b[39;00m\n\u001b[1;32m-> 4954\u001b[0m     \u001b[38;5;28;01mreturn\u001b[39;00m \u001b[38;5;28;43msuper\u001b[39;49m\u001b[43m(\u001b[49m\u001b[43m)\u001b[49m\u001b[38;5;241;43m.\u001b[39;49m\u001b[43mdrop\u001b[49m\u001b[43m(\u001b[49m\n\u001b[0;32m   4955\u001b[0m \u001b[43m        \u001b[49m\u001b[43mlabels\u001b[49m\u001b[38;5;241;43m=\u001b[39;49m\u001b[43mlabels\u001b[49m\u001b[43m,\u001b[49m\n\u001b[0;32m   4956\u001b[0m \u001b[43m        \u001b[49m\u001b[43maxis\u001b[49m\u001b[38;5;241;43m=\u001b[39;49m\u001b[43maxis\u001b[49m\u001b[43m,\u001b[49m\n\u001b[0;32m   4957\u001b[0m \u001b[43m        \u001b[49m\u001b[43mindex\u001b[49m\u001b[38;5;241;43m=\u001b[39;49m\u001b[43mindex\u001b[49m\u001b[43m,\u001b[49m\n\u001b[0;32m   4958\u001b[0m \u001b[43m        \u001b[49m\u001b[43mcolumns\u001b[49m\u001b[38;5;241;43m=\u001b[39;49m\u001b[43mcolumns\u001b[49m\u001b[43m,\u001b[49m\n\u001b[0;32m   4959\u001b[0m \u001b[43m        \u001b[49m\u001b[43mlevel\u001b[49m\u001b[38;5;241;43m=\u001b[39;49m\u001b[43mlevel\u001b[49m\u001b[43m,\u001b[49m\n\u001b[0;32m   4960\u001b[0m \u001b[43m        \u001b[49m\u001b[43minplace\u001b[49m\u001b[38;5;241;43m=\u001b[39;49m\u001b[43minplace\u001b[49m\u001b[43m,\u001b[49m\n\u001b[0;32m   4961\u001b[0m \u001b[43m        \u001b[49m\u001b[43merrors\u001b[49m\u001b[38;5;241;43m=\u001b[39;49m\u001b[43merrors\u001b[49m\u001b[43m,\u001b[49m\n\u001b[0;32m   4962\u001b[0m \u001b[43m    \u001b[49m\u001b[43m)\u001b[49m\n",
      "File \u001b[1;32m~\\anaconda3\\envs\\Python3104\\lib\\site-packages\\pandas\\core\\generic.py:4267\u001b[0m, in \u001b[0;36mNDFrame.drop\u001b[1;34m(self, labels, axis, index, columns, level, inplace, errors)\u001b[0m\n\u001b[0;32m   4265\u001b[0m \u001b[38;5;28;01mfor\u001b[39;00m axis, labels \u001b[38;5;129;01min\u001b[39;00m axes\u001b[38;5;241m.\u001b[39mitems():\n\u001b[0;32m   4266\u001b[0m     \u001b[38;5;28;01mif\u001b[39;00m labels \u001b[38;5;129;01mis\u001b[39;00m \u001b[38;5;129;01mnot\u001b[39;00m \u001b[38;5;28;01mNone\u001b[39;00m:\n\u001b[1;32m-> 4267\u001b[0m         obj \u001b[38;5;241m=\u001b[39m \u001b[43mobj\u001b[49m\u001b[38;5;241;43m.\u001b[39;49m\u001b[43m_drop_axis\u001b[49m\u001b[43m(\u001b[49m\u001b[43mlabels\u001b[49m\u001b[43m,\u001b[49m\u001b[43m \u001b[49m\u001b[43maxis\u001b[49m\u001b[43m,\u001b[49m\u001b[43m \u001b[49m\u001b[43mlevel\u001b[49m\u001b[38;5;241;43m=\u001b[39;49m\u001b[43mlevel\u001b[49m\u001b[43m,\u001b[49m\u001b[43m \u001b[49m\u001b[43merrors\u001b[49m\u001b[38;5;241;43m=\u001b[39;49m\u001b[43merrors\u001b[49m\u001b[43m)\u001b[49m\n\u001b[0;32m   4269\u001b[0m \u001b[38;5;28;01mif\u001b[39;00m inplace:\n\u001b[0;32m   4270\u001b[0m     \u001b[38;5;28mself\u001b[39m\u001b[38;5;241m.\u001b[39m_update_inplace(obj)\n",
      "File \u001b[1;32m~\\anaconda3\\envs\\Python3104\\lib\\site-packages\\pandas\\core\\generic.py:4311\u001b[0m, in \u001b[0;36mNDFrame._drop_axis\u001b[1;34m(self, labels, axis, level, errors, consolidate, only_slice)\u001b[0m\n\u001b[0;32m   4309\u001b[0m         new_axis \u001b[38;5;241m=\u001b[39m axis\u001b[38;5;241m.\u001b[39mdrop(labels, level\u001b[38;5;241m=\u001b[39mlevel, errors\u001b[38;5;241m=\u001b[39merrors)\n\u001b[0;32m   4310\u001b[0m     \u001b[38;5;28;01melse\u001b[39;00m:\n\u001b[1;32m-> 4311\u001b[0m         new_axis \u001b[38;5;241m=\u001b[39m \u001b[43maxis\u001b[49m\u001b[38;5;241;43m.\u001b[39;49m\u001b[43mdrop\u001b[49m\u001b[43m(\u001b[49m\u001b[43mlabels\u001b[49m\u001b[43m,\u001b[49m\u001b[43m \u001b[49m\u001b[43merrors\u001b[49m\u001b[38;5;241;43m=\u001b[39;49m\u001b[43merrors\u001b[49m\u001b[43m)\u001b[49m\n\u001b[0;32m   4312\u001b[0m     indexer \u001b[38;5;241m=\u001b[39m axis\u001b[38;5;241m.\u001b[39mget_indexer(new_axis)\n\u001b[0;32m   4314\u001b[0m \u001b[38;5;66;03m# Case for non-unique axis\u001b[39;00m\n\u001b[0;32m   4315\u001b[0m \u001b[38;5;28;01melse\u001b[39;00m:\n",
      "File \u001b[1;32m~\\anaconda3\\envs\\Python3104\\lib\\site-packages\\pandas\\core\\indexes\\base.py:6644\u001b[0m, in \u001b[0;36mIndex.drop\u001b[1;34m(self, labels, errors)\u001b[0m\n\u001b[0;32m   6642\u001b[0m \u001b[38;5;28;01mif\u001b[39;00m mask\u001b[38;5;241m.\u001b[39many():\n\u001b[0;32m   6643\u001b[0m     \u001b[38;5;28;01mif\u001b[39;00m errors \u001b[38;5;241m!=\u001b[39m \u001b[38;5;124m\"\u001b[39m\u001b[38;5;124mignore\u001b[39m\u001b[38;5;124m\"\u001b[39m:\n\u001b[1;32m-> 6644\u001b[0m         \u001b[38;5;28;01mraise\u001b[39;00m \u001b[38;5;167;01mKeyError\u001b[39;00m(\u001b[38;5;124mf\u001b[39m\u001b[38;5;124m\"\u001b[39m\u001b[38;5;132;01m{\u001b[39;00m\u001b[38;5;28mlist\u001b[39m(labels[mask])\u001b[38;5;132;01m}\u001b[39;00m\u001b[38;5;124m not found in axis\u001b[39m\u001b[38;5;124m\"\u001b[39m)\n\u001b[0;32m   6645\u001b[0m     indexer \u001b[38;5;241m=\u001b[39m indexer[\u001b[38;5;241m~\u001b[39mmask]\n\u001b[0;32m   6646\u001b[0m \u001b[38;5;28;01mreturn\u001b[39;00m \u001b[38;5;28mself\u001b[39m\u001b[38;5;241m.\u001b[39mdelete(indexer)\n",
      "\u001b[1;31mKeyError\u001b[0m: '[44, 65, 141, 536, 595, 106, 200, 449, 546, 616, 740, 906, 990, 972] not found in axis'"
     ]
    }
   ],
   "source": [
    "#Entries that are too vague, or incorrectly labeled as U.S.A\n",
    "UFO = UFO.drop(labels=[44, 65, 141, 536, 595, 106, 200, 449, 546, 616, 740, 906, 990, 972], axis=0)"
   ]
  },
  {
   "cell_type": "code",
   "execution_count": 31,
   "id": "88d7c334",
   "metadata": {},
   "outputs": [
    {
     "name": "stdout",
     "output_type": "stream",
     "text": [
      "Louisville, Jefferson County, Kentucky, United States\n"
     ]
    }
   ],
   "source": [
    "#Connecting to API for geocoding\n",
    "geolocator = Nominatim(user_agent=\"MyApp\")\n",
    "query= 'Louisville, Ky'\n",
    "results = geolocator.geocode(query)\n",
    "print(results)"
   ]
  },
  {
   "cell_type": "code",
   "execution_count": 32,
   "id": "403cbed7",
   "metadata": {},
   "outputs": [],
   "source": [
    "#Geocoding (can take up to 7 minutes)\n",
    "lat_list= []\n",
    "long_list= []\n",
    "\n",
    "incorrect_cities = []\n",
    "\n",
    "for index, row in UFO.iterrows():\n",
    "    \n",
    "    city = row['city']\n",
    "    state = row['state']\n",
    "    query = str(city) + ',' + str(state)\n",
    "    \n",
    "    results = geolocator.geocode(query)\n",
    "    \n",
    "    if results:\n",
    "        lat = results.latitude\n",
    "        long = results.longitude\n",
    "    \n",
    "    else:\n",
    "        incorrect_cities.append(query)\n",
    "    \n",
    "    lat_list.append(lat)\n",
    "    long_list.append(long)\n",
    "    \n",
    "    time.sleep(0.1)\n",
    "\n",
    "UFO['latitude'] = lat_list\n",
    "UFO['longitude'] = long_list"
   ]
  },
  {
   "cell_type": "code",
   "execution_count": 33,
   "id": "82a458f9",
   "metadata": {},
   "outputs": [
    {
     "data": {
      "text/plain": [
       "[]"
      ]
     },
     "execution_count": 33,
     "metadata": {},
     "output_type": "execute_result"
    }
   ],
   "source": [
    "#Checking for any incorrect cities\n",
    "incorrect_cities"
   ]
  },
  {
   "cell_type": "code",
   "execution_count": 34,
   "id": "49926b12",
   "metadata": {},
   "outputs": [
    {
     "data": {
      "text/html": [
       "<div>\n",
       "<style scoped>\n",
       "    .dataframe tbody tr th:only-of-type {\n",
       "        vertical-align: middle;\n",
       "    }\n",
       "\n",
       "    .dataframe tbody tr th {\n",
       "        vertical-align: top;\n",
       "    }\n",
       "\n",
       "    .dataframe thead th {\n",
       "        text-align: right;\n",
       "    }\n",
       "</style>\n",
       "<table border=\"1\" class=\"dataframe\">\n",
       "  <thead>\n",
       "    <tr style=\"text-align: right;\">\n",
       "      <th></th>\n",
       "      <th>city</th>\n",
       "      <th>state</th>\n",
       "      <th>country</th>\n",
       "      <th>shape</th>\n",
       "      <th>duration</th>\n",
       "      <th>summary</th>\n",
       "      <th>posted</th>\n",
       "      <th>date</th>\n",
       "      <th>time</th>\n",
       "      <th>latitude</th>\n",
       "      <th>longitude</th>\n",
       "    </tr>\n",
       "  </thead>\n",
       "  <tbody>\n",
       "    <tr>\n",
       "      <th>0</th>\n",
       "      <td>Sisters</td>\n",
       "      <td>OR</td>\n",
       "      <td>USA</td>\n",
       "      <td>Cigar</td>\n",
       "      <td>4 minutes</td>\n",
       "      <td>Long and narrow illuminated craft flying high ...</td>\n",
       "      <td>5/20/21</td>\n",
       "      <td>2021-05-15</td>\n",
       "      <td>22:36</td>\n",
       "      <td>44.290948</td>\n",
       "      <td>-121.549252</td>\n",
       "    </tr>\n",
       "    <tr>\n",
       "      <th>1</th>\n",
       "      <td>Sarasota</td>\n",
       "      <td>FL</td>\n",
       "      <td>USA</td>\n",
       "      <td>Other</td>\n",
       "      <td>2 minutes</td>\n",
       "      <td>String of lights</td>\n",
       "      <td>5/20/21</td>\n",
       "      <td>2021-05-10</td>\n",
       "      <td>22:00</td>\n",
       "      <td>27.336581</td>\n",
       "      <td>-82.530855</td>\n",
       "    </tr>\n",
       "    <tr>\n",
       "      <th>2</th>\n",
       "      <td>Cleveland</td>\n",
       "      <td>TN</td>\n",
       "      <td>USA</td>\n",
       "      <td>Light</td>\n",
       "      <td>10 minutes</td>\n",
       "      <td>30+ lights in a line.</td>\n",
       "      <td>5/20/21</td>\n",
       "      <td>2021-05-05</td>\n",
       "      <td>22:35</td>\n",
       "      <td>35.159518</td>\n",
       "      <td>-84.876611</td>\n",
       "    </tr>\n",
       "    <tr>\n",
       "      <th>3</th>\n",
       "      <td>Galway</td>\n",
       "      <td>NY</td>\n",
       "      <td>USA</td>\n",
       "      <td>Circle</td>\n",
       "      <td>5 mins</td>\n",
       "      <td>I was standing at my kitchen sink and looked u...</td>\n",
       "      <td>8/20/21</td>\n",
       "      <td>2020-10-16</td>\n",
       "      <td>18:25</td>\n",
       "      <td>43.018686</td>\n",
       "      <td>-74.031516</td>\n",
       "    </tr>\n",
       "    <tr>\n",
       "      <th>4</th>\n",
       "      <td>Downingtown</td>\n",
       "      <td>PA</td>\n",
       "      <td>USA</td>\n",
       "      <td>Circle</td>\n",
       "      <td>1 hour</td>\n",
       "      <td>Multiple slow moving craft seen all over the s...</td>\n",
       "      <td>7/31/21</td>\n",
       "      <td>2021-06-18</td>\n",
       "      <td>01:00</td>\n",
       "      <td>40.006496</td>\n",
       "      <td>-75.703274</td>\n",
       "    </tr>\n",
       "    <tr>\n",
       "      <th>...</th>\n",
       "      <td>...</td>\n",
       "      <td>...</td>\n",
       "      <td>...</td>\n",
       "      <td>...</td>\n",
       "      <td>...</td>\n",
       "      <td>...</td>\n",
       "      <td>...</td>\n",
       "      <td>...</td>\n",
       "      <td>...</td>\n",
       "      <td>...</td>\n",
       "      <td>...</td>\n",
       "    </tr>\n",
       "    <tr>\n",
       "      <th>994</th>\n",
       "      <td>Haysville</td>\n",
       "      <td>KS</td>\n",
       "      <td>USA</td>\n",
       "      <td>Teardrop</td>\n",
       "      <td>5 minutes lights showing</td>\n",
       "      <td>We saw the actual ufo after she spotted a ligh...</td>\n",
       "      <td>4/22/22</td>\n",
       "      <td>2022-03-09</td>\n",
       "      <td>23:30</td>\n",
       "      <td>37.564462</td>\n",
       "      <td>-97.352267</td>\n",
       "    </tr>\n",
       "    <tr>\n",
       "      <th>996</th>\n",
       "      <td>Maple Shade</td>\n",
       "      <td>NJ</td>\n",
       "      <td>USA</td>\n",
       "      <td>Sphere</td>\n",
       "      <td>20 seconds</td>\n",
       "      <td>Thought it was the North Star. Same brightness...</td>\n",
       "      <td>11/21/98</td>\n",
       "      <td>1998-05-29</td>\n",
       "      <td>03:00</td>\n",
       "      <td>39.952613</td>\n",
       "      <td>-74.992391</td>\n",
       "    </tr>\n",
       "    <tr>\n",
       "      <th>997</th>\n",
       "      <td>Phoenix</td>\n",
       "      <td>AZ</td>\n",
       "      <td>USA</td>\n",
       "      <td>Oval</td>\n",
       "      <td>3 hours</td>\n",
       "      <td>Oval plastic looking craft, translucent, refle...</td>\n",
       "      <td>11/21/98</td>\n",
       "      <td>1998-05-29</td>\n",
       "      <td>05:00</td>\n",
       "      <td>33.448437</td>\n",
       "      <td>-112.074141</td>\n",
       "    </tr>\n",
       "    <tr>\n",
       "      <th>998</th>\n",
       "      <td>Boston</td>\n",
       "      <td>MA</td>\n",
       "      <td>USA</td>\n",
       "      <td>Disk</td>\n",
       "      <td>unkown</td>\n",
       "      <td>encounter with approximatley seven saucers eac...</td>\n",
       "      <td>11/21/98</td>\n",
       "      <td>1998-06-01</td>\n",
       "      <td>14:00</td>\n",
       "      <td>42.355433</td>\n",
       "      <td>-71.060511</td>\n",
       "    </tr>\n",
       "    <tr>\n",
       "      <th>999</th>\n",
       "      <td>Bayfield</td>\n",
       "      <td>WI</td>\n",
       "      <td>USA</td>\n",
       "      <td>Fireball</td>\n",
       "      <td>5 sec.</td>\n",
       "      <td>white/green ball with trailing tail and fallin...</td>\n",
       "      <td>11/21/98</td>\n",
       "      <td>1998-06-01</td>\n",
       "      <td>22:00</td>\n",
       "      <td>46.471024</td>\n",
       "      <td>-91.198318</td>\n",
       "    </tr>\n",
       "  </tbody>\n",
       "</table>\n",
       "<p>838 rows × 11 columns</p>\n",
       "</div>"
      ],
      "text/plain": [
       "            city state country     shape                  duration  \\\n",
       "0        Sisters    OR     USA     Cigar                 4 minutes   \n",
       "1       Sarasota    FL     USA     Other                 2 minutes   \n",
       "2      Cleveland    TN     USA     Light                10 minutes   \n",
       "3         Galway    NY     USA    Circle                    5 mins   \n",
       "4    Downingtown    PA     USA    Circle                    1 hour   \n",
       "..           ...   ...     ...       ...                       ...   \n",
       "994    Haysville    KS     USA  Teardrop  5 minutes lights showing   \n",
       "996  Maple Shade    NJ     USA    Sphere                20 seconds   \n",
       "997      Phoenix    AZ     USA      Oval                   3 hours   \n",
       "998       Boston    MA     USA      Disk                    unkown   \n",
       "999     Bayfield    WI     USA  Fireball                    5 sec.   \n",
       "\n",
       "                                               summary    posted       date  \\\n",
       "0    Long and narrow illuminated craft flying high ...   5/20/21 2021-05-15   \n",
       "1                                     String of lights   5/20/21 2021-05-10   \n",
       "2                                30+ lights in a line.   5/20/21 2021-05-05   \n",
       "3    I was standing at my kitchen sink and looked u...   8/20/21 2020-10-16   \n",
       "4    Multiple slow moving craft seen all over the s...   7/31/21 2021-06-18   \n",
       "..                                                 ...       ...        ...   \n",
       "994  We saw the actual ufo after she spotted a ligh...   4/22/22 2022-03-09   \n",
       "996  Thought it was the North Star. Same brightness...  11/21/98 1998-05-29   \n",
       "997  Oval plastic looking craft, translucent, refle...  11/21/98 1998-05-29   \n",
       "998  encounter with approximatley seven saucers eac...  11/21/98 1998-06-01   \n",
       "999  white/green ball with trailing tail and fallin...  11/21/98 1998-06-01   \n",
       "\n",
       "      time   latitude   longitude  \n",
       "0    22:36  44.290948 -121.549252  \n",
       "1    22:00  27.336581  -82.530855  \n",
       "2    22:35  35.159518  -84.876611  \n",
       "3    18:25  43.018686  -74.031516  \n",
       "4    01:00  40.006496  -75.703274  \n",
       "..     ...        ...         ...  \n",
       "994  23:30  37.564462  -97.352267  \n",
       "996  03:00  39.952613  -74.992391  \n",
       "997  05:00  33.448437 -112.074141  \n",
       "998  14:00  42.355433  -71.060511  \n",
       "999  22:00  46.471024  -91.198318  \n",
       "\n",
       "[838 rows x 11 columns]"
      ]
     },
     "execution_count": 34,
     "metadata": {},
     "output_type": "execute_result"
    }
   ],
   "source": [
    "#OMG IT WORKED\n",
    "UFO"
   ]
  },
  {
   "cell_type": "code",
   "execution_count": 35,
   "id": "2a9ef2e1",
   "metadata": {},
   "outputs": [],
   "source": [
    "#Converting to exccel\n",
    "BF.to_excel(r'C:\\Users\\geens\\Desktop\\Data\\BF.xlsx', index=False, header=True)"
   ]
  },
  {
   "cell_type": "code",
   "execution_count": 36,
   "id": "e75b7acf",
   "metadata": {},
   "outputs": [],
   "source": [
    "#Converting to excel\n",
    "UFO.to_excel(r'C:\\Users\\geens\\Desktop\\Data\\UFO.xlsx', index=False, header=True)"
   ]
  }
 ],
 "metadata": {
  "kernelspec": {
   "display_name": "Python 3 (ipykernel)",
   "language": "python",
   "name": "python3"
  },
  "language_info": {
   "codemirror_mode": {
    "name": "ipython",
    "version": 3
   },
   "file_extension": ".py",
   "mimetype": "text/x-python",
   "name": "python",
   "nbconvert_exporter": "python",
   "pygments_lexer": "ipython3",
   "version": "3.10.6"
  },
  "vscode": {
   "interpreter": {
    "hash": "56388a81e87decfa50a34c2f39e75028d8b10046f70d40249ca5dfe9917d2002"
   }
  }
 },
 "nbformat": 4,
 "nbformat_minor": 5
}
