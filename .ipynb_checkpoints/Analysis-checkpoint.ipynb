{
 "cells": [
  {
   "cell_type": "code",
   "execution_count": 1,
   "id": "ad571894",
   "metadata": {},
   "outputs": [],
   "source": [
    "#Import packages\n",
    "import pandas as pd\n",
    "import numpy as np\n",
    "import os\n",
    "import time\n",
    "import geocoder\n",
    "from geopy.geocoders import Nominatim"
   ]
  },
  {
   "cell_type": "code",
   "execution_count": 2,
   "id": "3878a2de",
   "metadata": {
    "scrolled": true
   },
   "outputs": [],
   "source": [
    "#Read in BF locations data\n",
    "BF_Locations = pd.read_csv(os.path.join(\"https://download.data.world/s/a5gdzsmxenwcwqmnbjaaizbfk4uea3\"))"
   ]
  },
  {
   "cell_type": "code",
   "execution_count": 3,
   "id": "a75323d3",
   "metadata": {},
   "outputs": [],
   "source": [
    "#Read in BF report data\n",
    "BF_Reports = pd.read_csv(os.path.join(\"https://download.data.world/s/td52m5guv2cpruwjo6pr2cd3fbk5cx\"))"
   ]
  },
  {
   "cell_type": "code",
   "execution_count": 4,
   "id": "4266e8e9",
   "metadata": {},
   "outputs": [],
   "source": [
    "#Read in UFO data (may take a minute due to size)\n",
    "UFO = pd.read_csv(os.path.join(\"https://download.data.world/s/lobqhnvklhbppb4ayke4b23lsupg57\"))"
   ]
  },
  {
   "cell_type": "code",
   "execution_count": 5,
   "id": "0c6825fb",
   "metadata": {},
   "outputs": [],
   "source": [
    "#Change column name in BF locations dataframe, in order to merge in next cell\n",
    "BF_Locations = BF_Locations.rename(columns={'number': 'report_number'})"
   ]
  },
  {
   "cell_type": "code",
   "execution_count": 6,
   "id": "c0ec6a59",
   "metadata": {
    "scrolled": true
   },
   "outputs": [],
   "source": [
    "#Merge two BF datasets\n",
    "BF = pd.merge(BF_Locations, BF_Reports, how='left', left_on='report_number', right_on='report_number')"
   ]
  },
  {
   "cell_type": "code",
   "execution_count": 7,
   "id": "b6f5e032",
   "metadata": {},
   "outputs": [],
   "source": [
    "#Split BF 'title' column by report number and report. Title column had redundant information.\n",
    "BF[['report_number2', 'report']] = BF.pop('title').str.split(pat=':', n=1, expand=True)"
   ]
  },
  {
   "cell_type": "code",
   "execution_count": 8,
   "id": "a1ec3919",
   "metadata": {},
   "outputs": [],
   "source": [
    "#Reformatting BF timestamp column\n",
    "BF['timestamp'] = pd.to_datetime(BF['timestamp'], format = \"%Y-%m-%dT%H:%M:%S.%f\")"
   ]
  },
  {
   "cell_type": "code",
   "execution_count": 9,
   "id": "5cc12220",
   "metadata": {},
   "outputs": [],
   "source": [
    "#Splitting BF timestamp column to get the date of the reports\n",
    "BF['report_date'] = BF['timestamp'].dt.date\n",
    "BF['time'] = BF['timestamp'].dt.time"
   ]
  },
  {
   "cell_type": "code",
   "execution_count": 10,
   "id": "556e20b8",
   "metadata": {},
   "outputs": [],
   "source": [
    "#Removing unnecessary columns in BF dataframe\n",
    "BF = BF.drop(['timestamp', 'year', 'season', 'report_class', \n",
    "              'month', 'date', 'a_g_references', 'time', 'report_number2', \n",
    "              'report_number', 'classification', 'county', 'nearest_town', \n",
    "              'nearest_road', 'also_noticed', 'other_witnesses', 'other_stories', \n",
    "              'time_and_conditions', 'environment', 'location_details', 'observed'], axis=1)"
   ]
  },
  {
   "cell_type": "code",
   "execution_count": 11,
   "id": "f6342293",
   "metadata": {},
   "outputs": [],
   "source": [
    "#Changing dates to datetime format\n",
    "BF['report_date'] = pd.to_datetime(BF['report_date'], errors='coerce')"
   ]
  },
  {
   "cell_type": "code",
   "execution_count": 12,
   "id": "fad90417",
   "metadata": {},
   "outputs": [],
   "source": [
    "#Clean column names\n",
    "BF = BF.rename(columns={'report_date': 'date'})"
   ]
  },
  {
   "cell_type": "code",
   "execution_count": 13,
   "id": "b168825e",
   "metadata": {},
   "outputs": [],
   "source": [
    "#Due to the size of the dataframes, I will be using only the first 1000 rows.\n",
    "BF = BF[:1000]\n",
    "UFO = UFO[:1000]"
   ]
  },
  {
   "cell_type": "code",
   "execution_count": 14,
   "id": "897a7261",
   "metadata": {
    "scrolled": true
   },
   "outputs": [],
   "source": [
    "#Removing unnecessary columns in UFO dataframe\n",
    "UFO = UFO.drop(['stats', 'report_link', 'text', 'shape', 'duration', 'posted'], axis = 1)"
   ]
  },
  {
   "cell_type": "code",
   "execution_count": 15,
   "id": "72dbe823",
   "metadata": {},
   "outputs": [],
   "source": [
    "#Clean column names\n",
    "UFO = UFO.rename(columns={'summary': 'report'})"
   ]
  },
  {
   "cell_type": "code",
   "execution_count": 16,
   "id": "bceaeced",
   "metadata": {},
   "outputs": [],
   "source": [
    "#Remove all countries other than USA\n",
    "UFO = UFO.loc[UFO[\"country\"] == \"USA\"]"
   ]
  },
  {
   "cell_type": "code",
   "execution_count": 17,
   "id": "da658c8a",
   "metadata": {},
   "outputs": [],
   "source": [
    "#Split 'date_time' column\n",
    "UFO[['date', 'time']] = UFO.pop('date_time').str.split(pat=' ', n=1, expand=True)"
   ]
  },
  {
   "cell_type": "code",
   "execution_count": 18,
   "id": "1ed620bb",
   "metadata": {},
   "outputs": [],
   "source": [
    "#Changing dates to datetime format\n",
    "UFO['date'] = pd.to_datetime(UFO['date'], errors='coerce')"
   ]
  },
  {
   "cell_type": "code",
   "execution_count": 19,
   "id": "7744c464",
   "metadata": {},
   "outputs": [],
   "source": [
    "#Dropping null values\n",
    "UFO = UFO[UFO['date'].notna()]\n",
    "UFO = UFO[UFO['city'].notna()]\n",
    "UFO = UFO[UFO['state'].notna()]"
   ]
  },
  {
   "cell_type": "code",
   "execution_count": 20,
   "id": "aa8648c6",
   "metadata": {},
   "outputs": [],
   "source": [
    "#Capitalizing city names\n",
    "UFO.city = UFO.city.str.title()"
   ]
  },
  {
   "cell_type": "code",
   "execution_count": 21,
   "id": "dba59e79",
   "metadata": {},
   "outputs": [],
   "source": [
    "#Replacing any incorrect city or state names. \n",
    "UFO = UFO.replace({'city':{\n",
    "    'St Augustine Pass Las Cruces':'San Augustin',\n",
    "    'Kentucky (Somewhere In North Central Ky On I-65)': 'Covington',\n",
    "    'Airmont, (Formerly Tallman)': 'Tallman',\n",
    "    'Panther Creek State Park, Close To Morristown, Tennessee': 'Morristown',\n",
    "    'Washington Dc (Suitland, Md)': 'Suitland',\n",
    "    'Saguaro Lake (Mesa)': 'Mesa',\n",
    "    'Grand Rapids - Godwin Heights': 'Grand Rapids',\n",
    "    'Terre Haute (Just E Of; On Interstate 70)': 'Terre Haute',\n",
    "    'Near Jemez': 'Jemez',\n",
    "    ' Eldorado Hills-Placerville (Hwy 50': 'Placerville',\n",
    "    'Odessa (Starkey Ranch)': 'Odessa',\n",
    "    'Staton Island': 'New York City',\n",
    "    'Zoar (Small Town In America)': 'Zoar',\n",
    "    'Lordsburg And Silver City (Between)': 'Lordsburg',\n",
    "    'Swayze': 'Swayzee',\n",
    "    'Brainerd/Gull Lake': 'Brainerd',\n",
    "    'Chrystal River': 'Crystal River',\n",
    "    'Two Or Three Miles Northwest Of Detroit Metro Airport.': 'Detroit',\n",
    "    'Seaford, Long Island': 'Long Island',\n",
    "    'Bosie': 'Boise',\n",
    "    'Seiverville': 'Sevierville',\n",
    "    'Towsan': 'Towson',\n",
    "    'Small Town Off The I-40 Not Sure Which)': 'Null',\n",
    "    'Unkone': 'NaN',\n",
    "    'Unsure Exactly': 'NaN',\n",
    "    'Port St. Lucie': 'Port Saint Lucie',\n",
    "    'De Funiak Springs': 'DeFuniak Springs',\n",
    "    'South Ozone Park, Queens, Nyc': 'New York City',\n",
    "    'St. Louis': 'Saint Louis',\n",
    "    'Forest Hills (Queens; Nyc)': 'New York City',\n",
    "    'Huntsville Alabama': 'Huntsville',\n",
    "    'Idaho National Forest': 'NaN',\n",
    "    'Ft Worth': 'Fort Worth',\n",
    "    'Sellersville/Perkasie, Pa': 'Sellersville',\n",
    "    'Mt. Vernon': 'Mount Vernon',\n",
    "    'Rio Ranco': 'Rio Rancho',\n",
    "    'Forest Hills (Queens)': 'New York City',\n",
    "    'Lauderdale By The Sea Florida': 'Fort Lauderdale',\n",
    "    'Newport Rhode Island': 'Newport',\n",
    "    'Daytona Beach Shores': 'Daytona Beach',\n",
    "    'Ft Pierce': 'Fort Pierce',\n",
    "    'Road Above Stinson Beach': 'Stinson Beach',\n",
    "    'Near The Wisconsin Dells': 'NaN',\n",
    "    'South Of Zortman': 'NaN',\n",
    "    'Pompano Beach Pompano': 'Pompano Beach',\n",
    "    'Lakewood/Edgewater': 'Lakewood',\n",
    "    'Carrabelle Florida': 'Carrabelle',\n",
    "    'Interstate 80': 'NaN',\n",
    "    'Blaine-Outside City Limits': 'Blaine',\n",
    "    'Batesville And Floral': 'Batesville',\n",
    "    'Clarkston, Washington': 'Clarkston',\n",
    "    'Port St Lucie': 'Port Saint Lucie',\n",
    "    'Between Faster,Al And Tuscaloosa, Al': 'Tuscaloosa',\n",
    "    'St. Johns Du Quoin Address': 'Saint Johns',\n",
    "    'St. George': 'Saint George',\n",
    "    '21-Minutes, Flight Time, North Of Phoenix': 'Phoenix',\n",
    "    'Boston Area': 'Boston',\n",
    "    'Near Muhlenburg Airport': 'NaN',\n",
    "    'Taylorsville, Salt Lake, Utah': 'Salt Lake City',\n",
    "    'Orem, Provo': 'Orem',\n",
    "    'N Las Vegas': 'Las Vegas',\n",
    "    'Lafollette And Powell': 'LaFollette',\n",
    "    'St. Joseph': 'Saint Joseph',\n",
    "    'Rosalia, St. John, Colfax Area Of The Palouse': 'Rosalia',\n",
    "    'Wentzville,': 'Wentzville',\n",
    "    'Columbus, Ohio And Surrounding Areas': 'Columbus',\n",
    "    'Monterey Bay/Fort Ord Rifle Range': 'Monterey Bay',\n",
    "    'Woodberry Forest Preparatory School, Va': 'NaN',\n",
    "    'Los Angeles (Over I-10, On Most Rural Bayou Stretch)': 'Los Angeles',\n",
    "    'California Valley (Cattle Country, Not Too Distant Airbase)': 'California Valley',\n",
    "    'Bayfield (Near, Lake Superior, South Shore)': 'Bayfield',\n",
    "    'Between Tacoma And Gig Harbor, Wa': 'NaN',\n",
    "    '20,000 Feet Over Trout Lake, Wa Looking Northwest': 'NaN',\n",
    "    'Thomasville (Usaf Long Range Radar Facility)': 'Thomasville',\n",
    "    'Myrtle Beach, Horry County South Carolina': 'Myrtle Beach',\n",
    "    'Olyimpa': 'Olympia',\n",
    "    'Vancounver': 'Vancouver',\n",
    "    'Mckinelyville': 'Mckinleyville'\n",
    "}})\n",
    "\n",
    "UFO = UFO.replace({'state':{\n",
    "    'Washington, DC': 'MD',\n",
    "    'Cornwall': 'NaN',\n",
    "    '\\nMA': 'MA'\n",
    "}})"
   ]
  },
  {
   "cell_type": "code",
   "execution_count": 22,
   "id": "9ab18c2b",
   "metadata": {},
   "outputs": [],
   "source": [
    "#Entries that are too vague, or incorrectly labeled as U.S.A\n",
    "UFO = UFO.drop(labels=[44, 65, 141, 536, 595, 106, 200, 449, 546, 616, 740, 906, 990, 972], axis=0)"
   ]
  },
  {
   "cell_type": "code",
   "execution_count": 23,
   "id": "88d7c334",
   "metadata": {},
   "outputs": [
    {
     "name": "stdout",
     "output_type": "stream",
     "text": [
      "Louisville, Jefferson County, Kentucky, United States\n"
     ]
    }
   ],
   "source": [
    "#Connecting to API for geocoding\n",
    "geolocator = Nominatim(user_agent=\"MyApp\")\n",
    "query= 'Louisville, Ky'\n",
    "results = geolocator.geocode(query)\n",
    "print(results)"
   ]
  },
  {
   "cell_type": "code",
   "execution_count": 24,
   "id": "403cbed7",
   "metadata": {},
   "outputs": [],
   "source": [
    "#Geocoding (can take up to 7 minutes)\n",
    "#Will give latitude and longitude for mapping purposes\n",
    "lat_list= []\n",
    "long_list= []\n",
    "\n",
    "incorrect_cities = []\n",
    "\n",
    "for index, row in UFO.iterrows():\n",
    "    \n",
    "    city = row['city']\n",
    "    state = row['state']\n",
    "    query = str(city) + ',' + str(state)\n",
    "    \n",
    "    results = geolocator.geocode(query)\n",
    "    \n",
    "    if results:\n",
    "        lat = results.latitude\n",
    "        long = results.longitude\n",
    "    \n",
    "    else:\n",
    "        incorrect_cities.append(query)\n",
    "    \n",
    "    lat_list.append(lat)\n",
    "    long_list.append(long)\n",
    "    \n",
    "    time.sleep(0.1)\n",
    "\n",
    "UFO['latitude'] = lat_list\n",
    "UFO['longitude'] = long_list"
   ]
  },
  {
   "cell_type": "code",
   "execution_count": 25,
   "id": "82a458f9",
   "metadata": {
    "scrolled": true
   },
   "outputs": [
    {
     "data": {
      "text/plain": [
       "[]"
      ]
     },
     "execution_count": 25,
     "metadata": {},
     "output_type": "execute_result"
    }
   ],
   "source": [
    "#Checking for any incorrect cities\n",
    "incorrect_cities"
   ]
  },
  {
   "cell_type": "code",
   "execution_count": 26,
   "id": "e5961bbd",
   "metadata": {},
   "outputs": [],
   "source": [
    "#Clean columns for excel conversion\n",
    "UFO = UFO.drop(['time', 'city', 'country'], axis = 1)"
   ]
  },
  {
   "cell_type": "code",
   "execution_count": 29,
   "id": "43f80a30",
   "metadata": {},
   "outputs": [],
   "source": [
    "#Convert both dataframes into one excel file, separate sheets\n",
    "with pd.ExcelWriter('UFO_BF.xlsx') as writer:\n",
    "    BF.to_excel(writer, sheet_name='BF')\n",
    "    UFO.to_excel(writer, sheet_name='UFO')"
   ]
  }
 ],
 "metadata": {
  "kernelspec": {
   "display_name": "Python 3 (ipykernel)",
   "language": "python",
   "name": "python3"
  },
  "language_info": {
   "codemirror_mode": {
    "name": "ipython",
    "version": 3
   },
   "file_extension": ".py",
   "mimetype": "text/x-python",
   "name": "python",
   "nbconvert_exporter": "python",
   "pygments_lexer": "ipython3",
   "version": "3.10.6"
  },
  "vscode": {
   "interpreter": {
    "hash": "56388a81e87decfa50a34c2f39e75028d8b10046f70d40249ca5dfe9917d2002"
   }
  }
 },
 "nbformat": 4,
 "nbformat_minor": 5
}
