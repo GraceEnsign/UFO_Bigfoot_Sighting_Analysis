{
 "cells": [
  {
   "cell_type": "code",
   "execution_count": 38,
   "id": "ad571894",
   "metadata": {},
   "outputs": [],
   "source": [
    "#Import packages\n",
    "import pandas as pd\n",
    "import numpy as np\n",
    "import os\n",
    "import time\n",
    "import geocoder\n",
    "from geopy.geocoders import Nominatim"
   ]
  },
  {
   "cell_type": "code",
   "execution_count": 39,
   "id": "3878a2de",
   "metadata": {
    "scrolled": true
   },
   "outputs": [],
   "source": [
    "#Read in BF locations data\n",
    "BF_Locations = pd.read_csv(os.path.join(\"https://download.data.world/s/a5gdzsmxenwcwqmnbjaaizbfk4uea3\"))\n",
    "BF_Reports = pd.read_csv(os.path.join(\"https://download.data.world/s/td52m5guv2cpruwjo6pr2cd3fbk5cx\"))"
   ]
  },
  {
   "cell_type": "code",
   "execution_count": 40,
   "id": "4266e8e9",
   "metadata": {},
   "outputs": [],
   "source": [
    "#Read in UFO data (may take a minute due to size)\n",
    "UFO = pd.read_csv(os.path.join(\"https://download.data.world/s/lobqhnvklhbppb4ayke4b23lsupg57\"))"
   ]
  },
  {
   "cell_type": "code",
   "execution_count": 41,
   "id": "0c6825fb",
   "metadata": {},
   "outputs": [],
   "source": [
    "#Change column name in BF locations dataframe\n",
    "BF_Locations = BF_Locations.rename(columns={'number': 'report_number'})"
   ]
  },
  {
   "cell_type": "code",
   "execution_count": 42,
   "id": "c0ec6a59",
   "metadata": {
    "scrolled": true
   },
   "outputs": [],
   "source": [
    "#Merge two BF datasets\n",
    "BF = pd.merge(BF_Locations, BF_Reports, how='left', left_on='report_number', right_on='report_number')"
   ]
  },
  {
   "cell_type": "code",
   "execution_count": 43,
   "id": "b6f5e032",
   "metadata": {},
   "outputs": [],
   "source": [
    "#Split BF 'title' column by report number and report\n",
    "BF[['report_number2', 'report']] = BF.pop('title').str.split(pat=':', n=1, expand=True)"
   ]
  },
  {
   "cell_type": "code",
   "execution_count": 44,
   "id": "a1ec3919",
   "metadata": {},
   "outputs": [],
   "source": [
    "#Reformatting BF timestamp column\n",
    "BF['timestamp'] = pd.to_datetime(BF['timestamp'], format = \"%Y-%m-%dT%H:%M:%S.%f\")"
   ]
  },
  {
   "cell_type": "code",
   "execution_count": 45,
   "id": "5cc12220",
   "metadata": {},
   "outputs": [],
   "source": [
    "#Splitting BF timestamp column\n",
    "BF['report_date'] = BF['timestamp'].dt.date\n",
    "BF['time'] = BF['timestamp'].dt.time"
   ]
  },
  {
   "cell_type": "code",
   "execution_count": 46,
   "id": "556e20b8",
   "metadata": {},
   "outputs": [],
   "source": [
    "#Removing unnecessary columns in BF dataframe\n",
    "BF = BF.drop(['timestamp', 'year', 'season', 'report_class', \n",
    "              'month', 'date', 'a_g_references', 'time', 'report_number2'], axis=1)"
   ]
  },
  {
   "cell_type": "code",
   "execution_count": 47,
   "id": "f6342293",
   "metadata": {},
   "outputs": [],
   "source": [
    "#Changing dates to datetime format\n",
    "BF['report_date'] = pd.to_datetime(BF['report_date'], errors='coerce')"
   ]
  },
  {
   "cell_type": "code",
   "execution_count": 48,
   "id": "b168825e",
   "metadata": {},
   "outputs": [],
   "source": [
    "#Due to the size of the dataframes, I will be using only the first 1000 rows.\n",
    "BF = BF[:1000]\n",
    "UFO = UFO[:1000]"
   ]
  },
  {
   "cell_type": "code",
   "execution_count": 49,
   "id": "897a7261",
   "metadata": {},
   "outputs": [],
   "source": [
    "#Removing unnecessary columns in UFO dataframe\n",
    "UFO = UFO.drop(['stats', 'report_link', 'text'], axis = 1)"
   ]
  },
  {
   "cell_type": "code",
   "execution_count": 50,
   "id": "bceaeced",
   "metadata": {},
   "outputs": [],
   "source": [
    "#Remove all countries other than USA\n",
    "UFO = UFO.loc[UFO[\"country\"] == \"USA\"]"
   ]
  },
  {
   "cell_type": "code",
   "execution_count": 51,
   "id": "da658c8a",
   "metadata": {},
   "outputs": [],
   "source": [
    "#Split 'date_time' column\n",
    "UFO[['date', 'time']] = UFO.pop('date_time').str.split(pat=' ', n=1, expand=True)"
   ]
  },
  {
   "cell_type": "code",
   "execution_count": 52,
   "id": "1ed620bb",
   "metadata": {},
   "outputs": [],
   "source": [
    "#Changing dates to datetime format\n",
    "UFO['date'] = pd.to_datetime(UFO['date'], errors='coerce')"
   ]
  },
  {
   "cell_type": "code",
   "execution_count": 53,
   "id": "7744c464",
   "metadata": {},
   "outputs": [],
   "source": [
    "#Dropping null values\n",
    "UFO = UFO[UFO['date'].notna()]\n",
    "UFO = UFO[UFO['city'].notna()]\n",
    "UFO = UFO[UFO['state'].notna()]"
   ]
  },
  {
   "cell_type": "code",
   "execution_count": 54,
   "id": "aa8648c6",
   "metadata": {},
   "outputs": [],
   "source": [
    "#Capitalizing city names\n",
    "UFO.city = UFO.city.str.title()"
   ]
  },
  {
   "cell_type": "code",
   "execution_count": 55,
   "id": "dba59e79",
   "metadata": {},
   "outputs": [],
   "source": [
    "#Replacing any incorrect city or state names. \n",
    "UFO = UFO.replace({'city':{\n",
    "    'St Augustine Pass Las Cruces':'San Augustin',\n",
    "    'Kentucky (Somewhere In North Central Ky On I-65)': 'Covington',\n",
    "    'Airmont, (Formerly Tallman)': 'Tallman',\n",
    "    'Panther Creek State Park, Close To Morristown, Tennessee': 'Morristown',\n",
    "    'Washington Dc (Suitland, Md)': 'Suitland',\n",
    "    'Saguaro Lake (Mesa)': 'Mesa',\n",
    "    'Grand Rapids - Godwin Heights': 'Grand Rapids',\n",
    "    'Terre Haute (Just E Of; On Interstate 70)': 'Terre Haute',\n",
    "    'Near Jemez': 'Jemez',\n",
    "    ' Eldorado Hills-Placerville (Hwy 50': 'Placerville',\n",
    "    'Odessa (Starkey Ranch)': 'Odessa',\n",
    "    'Staton Island': 'New York City',\n",
    "    'Zoar (Small Town In America)': 'Zoar',\n",
    "    'Lordsburg And Silver City (Between)': 'Lordsburg',\n",
    "    'Swayze': 'Swayzee',\n",
    "    'Brainerd/Gull Lake': 'Brainerd',\n",
    "    'Chrystal River': 'Crystal River',\n",
    "    'Two Or Three Miles Northwest Of Detroit Metro Airport.': 'Detroit',\n",
    "    'Seaford, Long Island': 'Long Island',\n",
    "    'Bosie': 'Boise',\n",
    "    'Seiverville': 'Sevierville',\n",
    "    'Towsan': 'Towson',\n",
    "    'Small Town Off The I-40 Not Sure Which)': 'Null',\n",
    "    'Unkone': 'NaN',\n",
    "    'Unsure Exactly': 'NaN',\n",
    "    'Port St. Lucie': 'Port Saint Lucie',\n",
    "    'De Funiak Springs': 'DeFuniak Springs',\n",
    "    'South Ozone Park, Queens, Nyc': 'New York City',\n",
    "    'St. Louis': 'Saint Louis',\n",
    "    'Forest Hills (Queens; Nyc)': 'New York City',\n",
    "    'Huntsville Alabama': 'Huntsville',\n",
    "    'Idaho National Forest': 'NaN',\n",
    "    'Ft Worth': 'Fort Worth',\n",
    "    'Sellersville/Perkasie, Pa': 'Sellersville',\n",
    "    'Mt. Vernon': 'Mount Vernon',\n",
    "    'Rio Ranco': 'Rio Rancho',\n",
    "    'Forest Hills (Queens)': 'New York City',\n",
    "    'Lauderdale By The Sea Florida': 'Fort Lauderdale',\n",
    "    'Newport Rhode Island': 'Newport',\n",
    "    'Daytona Beach Shores': 'Daytona Beach',\n",
    "    'Ft Pierce': 'Fort Pierce',\n",
    "    'Road Above Stinson Beach': 'Stinson Beach',\n",
    "    'Near The Wisconsin Dells': 'NaN',\n",
    "    'South Of Zortman': 'NaN',\n",
    "    'Pompano Beach Pompano': 'Pompano Beach',\n",
    "    'Lakewood/Edgewater': 'Lakewood',\n",
    "    'Carrabelle Florida': 'Carrabelle',\n",
    "    'Interstate 80': 'NaN',\n",
    "    'Blaine-Outside City Limits': 'Blaine',\n",
    "    'Batesville And Floral': 'Batesville',\n",
    "    'Clarkston, Washington': 'Clarkston',\n",
    "    'Port St Lucie': 'Port Saint Lucie',\n",
    "    'Between Faster,Al And Tuscaloosa, Al': 'Tuscaloosa',\n",
    "    'St. Johns Du Quoin Address': 'Saint Johns',\n",
    "    'St. George': 'Saint George',\n",
    "    '21-Minutes, Flight Time, North Of Phoenix': 'Phoenix',\n",
    "    'Boston Area': 'Boston',\n",
    "    'Near Muhlenburg Airport': 'NaN',\n",
    "    'Taylorsville, Salt Lake, Utah': 'Salt Lake City',\n",
    "    'Orem, Provo': 'Orem',\n",
    "    'N Las Vegas': 'Las Vegas',\n",
    "    'Lafollette And Powell': 'LaFollette',\n",
    "    'St. Joseph': 'Saint Joseph',\n",
    "    'Rosalia, St. John, Colfax Area Of The Palouse': 'Rosalia',\n",
    "    'Wentzville,': 'Wentzville',\n",
    "    'Columbus, Ohio And Surrounding Areas': 'Columbus',\n",
    "    'Monterey Bay/Fort Ord Rifle Range': 'Monterey Bay',\n",
    "    'Woodberry Forest Preparatory School, Va': 'NaN',\n",
    "    'Los Angeles (Over I-10, On Most Rural Bayou Stretch)': 'Los Angeles',\n",
    "    'California Valley (Cattle Country, Not Too Distant Airbase)': 'California Valley',\n",
    "    'Bayfield (Near, Lake Superior, South Shore)': 'Bayfield',\n",
    "    'Between Tacoma And Gig Harbor, Wa': 'NaN',\n",
    "    '20,000 Feet Over Trout Lake, Wa Looking Northwest': 'NaN',\n",
    "    'Thomasville (Usaf Long Range Radar Facility)': 'Thomasville',\n",
    "    'Myrtle Beach, Horry County South Carolina': 'Myrtle Beach',\n",
    "    'Olyimpa': 'Olympia',\n",
    "    'Vancounver': 'Vancouver',\n",
    "    'Mckinelyville': 'Mckinleyville'\n",
    "}})\n",
    "\n",
    "UFO = UFO.replace({'state':{\n",
    "    'Washington, DC': 'MD',\n",
    "    'Cornwall': 'NaN',\n",
    "    '\\nMA': 'MA'\n",
    "}})"
   ]
  },
  {
   "cell_type": "code",
   "execution_count": 56,
   "id": "9ab18c2b",
   "metadata": {},
   "outputs": [],
   "source": [
    "#Entries that are too vague, or incorrectly labeled as U.S.A\n",
    "UFO = UFO.drop(labels=[44, 65, 141, 536, 595, 106, 200, 449, 546, 616, 740, 906, 990, 972], axis=0)"
   ]
  },
  {
   "cell_type": "code",
   "execution_count": 57,
   "id": "88d7c334",
   "metadata": {},
   "outputs": [
    {
     "name": "stdout",
     "output_type": "stream",
     "text": [
      "Louisville, Jefferson County, Kentucky, United States\n"
     ]
    }
   ],
   "source": [
    "#Connecting to API for geocoding\n",
    "geolocator = Nominatim(user_agent=\"MyApp\")\n",
    "query= 'Louisville, Ky'\n",
    "results = geolocator.geocode(query)\n",
    "print(results)"
   ]
  },
  {
   "cell_type": "code",
   "execution_count": 58,
   "id": "403cbed7",
   "metadata": {},
   "outputs": [],
   "source": [
    "#Geocoding (can take up to 7 minutes)\n",
    "lat_list= []\n",
    "long_list= []\n",
    "\n",
    "incorrect_cities = []\n",
    "\n",
    "for index, row in UFO.iterrows():\n",
    "    \n",
    "    city = row['city']\n",
    "    state = row['state']\n",
    "    query = str(city) + ',' + str(state)\n",
    "    \n",
    "    results = geolocator.geocode(query)\n",
    "    \n",
    "    if results:\n",
    "        lat = results.latitude\n",
    "        long = results.longitude\n",
    "    \n",
    "    else:\n",
    "        incorrect_cities.append(query)\n",
    "    \n",
    "    lat_list.append(lat)\n",
    "    long_list.append(long)\n",
    "    \n",
    "    time.sleep(0.1)\n",
    "\n",
    "UFO['latitude'] = lat_list\n",
    "UFO['longitude'] = long_list"
   ]
  },
  {
   "cell_type": "code",
   "execution_count": 59,
   "id": "82a458f9",
   "metadata": {},
   "outputs": [
    {
     "data": {
      "text/plain": [
       "[]"
      ]
     },
     "execution_count": 59,
     "metadata": {},
     "output_type": "execute_result"
    }
   ],
   "source": [
    "#Checking for any incorrect cities\n",
    "incorrect_cities"
   ]
  },
  {
   "cell_type": "code",
   "execution_count": 60,
   "id": "49926b12",
   "metadata": {},
   "outputs": [
    {
     "data": {
      "text/html": [
       "<div>\n",
       "<style scoped>\n",
       "    .dataframe tbody tr th:only-of-type {\n",
       "        vertical-align: middle;\n",
       "    }\n",
       "\n",
       "    .dataframe tbody tr th {\n",
       "        vertical-align: top;\n",
       "    }\n",
       "\n",
       "    .dataframe thead th {\n",
       "        text-align: right;\n",
       "    }\n",
       "</style>\n",
       "<table border=\"1\" class=\"dataframe\">\n",
       "  <thead>\n",
       "    <tr style=\"text-align: right;\">\n",
       "      <th></th>\n",
       "      <th>city</th>\n",
       "      <th>state</th>\n",
       "      <th>country</th>\n",
       "      <th>shape</th>\n",
       "      <th>duration</th>\n",
       "      <th>summary</th>\n",
       "      <th>posted</th>\n",
       "      <th>date</th>\n",
       "      <th>time</th>\n",
       "      <th>latitude</th>\n",
       "      <th>longitude</th>\n",
       "    </tr>\n",
       "  </thead>\n",
       "  <tbody>\n",
       "    <tr>\n",
       "      <th>0</th>\n",
       "      <td>Sisters</td>\n",
       "      <td>OR</td>\n",
       "      <td>USA</td>\n",
       "      <td>Cigar</td>\n",
       "      <td>4 minutes</td>\n",
       "      <td>Long and narrow illuminated craft flying high ...</td>\n",
       "      <td>5/20/21</td>\n",
       "      <td>2021-05-15</td>\n",
       "      <td>22:36</td>\n",
       "      <td>44.290948</td>\n",
       "      <td>-121.549252</td>\n",
       "    </tr>\n",
       "    <tr>\n",
       "      <th>1</th>\n",
       "      <td>Sarasota</td>\n",
       "      <td>FL</td>\n",
       "      <td>USA</td>\n",
       "      <td>Other</td>\n",
       "      <td>2 minutes</td>\n",
       "      <td>String of lights</td>\n",
       "      <td>5/20/21</td>\n",
       "      <td>2021-05-10</td>\n",
       "      <td>22:00</td>\n",
       "      <td>27.336581</td>\n",
       "      <td>-82.530855</td>\n",
       "    </tr>\n",
       "    <tr>\n",
       "      <th>2</th>\n",
       "      <td>Cleveland</td>\n",
       "      <td>TN</td>\n",
       "      <td>USA</td>\n",
       "      <td>Light</td>\n",
       "      <td>10 minutes</td>\n",
       "      <td>30+ lights in a line.</td>\n",
       "      <td>5/20/21</td>\n",
       "      <td>2021-05-05</td>\n",
       "      <td>22:35</td>\n",
       "      <td>35.159518</td>\n",
       "      <td>-84.876611</td>\n",
       "    </tr>\n",
       "    <tr>\n",
       "      <th>3</th>\n",
       "      <td>Galway</td>\n",
       "      <td>NY</td>\n",
       "      <td>USA</td>\n",
       "      <td>Circle</td>\n",
       "      <td>5 mins</td>\n",
       "      <td>I was standing at my kitchen sink and looked u...</td>\n",
       "      <td>8/20/21</td>\n",
       "      <td>2020-10-16</td>\n",
       "      <td>18:25</td>\n",
       "      <td>43.018686</td>\n",
       "      <td>-74.031516</td>\n",
       "    </tr>\n",
       "    <tr>\n",
       "      <th>4</th>\n",
       "      <td>Downingtown</td>\n",
       "      <td>PA</td>\n",
       "      <td>USA</td>\n",
       "      <td>Circle</td>\n",
       "      <td>1 hour</td>\n",
       "      <td>Multiple slow moving craft seen all over the s...</td>\n",
       "      <td>7/31/21</td>\n",
       "      <td>2021-06-18</td>\n",
       "      <td>01:00</td>\n",
       "      <td>40.006496</td>\n",
       "      <td>-75.703274</td>\n",
       "    </tr>\n",
       "    <tr>\n",
       "      <th>...</th>\n",
       "      <td>...</td>\n",
       "      <td>...</td>\n",
       "      <td>...</td>\n",
       "      <td>...</td>\n",
       "      <td>...</td>\n",
       "      <td>...</td>\n",
       "      <td>...</td>\n",
       "      <td>...</td>\n",
       "      <td>...</td>\n",
       "      <td>...</td>\n",
       "      <td>...</td>\n",
       "    </tr>\n",
       "    <tr>\n",
       "      <th>994</th>\n",
       "      <td>Haysville</td>\n",
       "      <td>KS</td>\n",
       "      <td>USA</td>\n",
       "      <td>Teardrop</td>\n",
       "      <td>5 minutes lights showing</td>\n",
       "      <td>We saw the actual ufo after she spotted a ligh...</td>\n",
       "      <td>4/22/22</td>\n",
       "      <td>2022-03-09</td>\n",
       "      <td>23:30</td>\n",
       "      <td>37.564462</td>\n",
       "      <td>-97.352267</td>\n",
       "    </tr>\n",
       "    <tr>\n",
       "      <th>996</th>\n",
       "      <td>Maple Shade</td>\n",
       "      <td>NJ</td>\n",
       "      <td>USA</td>\n",
       "      <td>Sphere</td>\n",
       "      <td>20 seconds</td>\n",
       "      <td>Thought it was the North Star. Same brightness...</td>\n",
       "      <td>11/21/98</td>\n",
       "      <td>1998-05-29</td>\n",
       "      <td>03:00</td>\n",
       "      <td>39.952613</td>\n",
       "      <td>-74.992391</td>\n",
       "    </tr>\n",
       "    <tr>\n",
       "      <th>997</th>\n",
       "      <td>Phoenix</td>\n",
       "      <td>AZ</td>\n",
       "      <td>USA</td>\n",
       "      <td>Oval</td>\n",
       "      <td>3 hours</td>\n",
       "      <td>Oval plastic looking craft, translucent, refle...</td>\n",
       "      <td>11/21/98</td>\n",
       "      <td>1998-05-29</td>\n",
       "      <td>05:00</td>\n",
       "      <td>33.448437</td>\n",
       "      <td>-112.074141</td>\n",
       "    </tr>\n",
       "    <tr>\n",
       "      <th>998</th>\n",
       "      <td>Boston</td>\n",
       "      <td>MA</td>\n",
       "      <td>USA</td>\n",
       "      <td>Disk</td>\n",
       "      <td>unkown</td>\n",
       "      <td>encounter with approximatley seven saucers eac...</td>\n",
       "      <td>11/21/98</td>\n",
       "      <td>1998-06-01</td>\n",
       "      <td>14:00</td>\n",
       "      <td>42.355433</td>\n",
       "      <td>-71.060511</td>\n",
       "    </tr>\n",
       "    <tr>\n",
       "      <th>999</th>\n",
       "      <td>Bayfield</td>\n",
       "      <td>WI</td>\n",
       "      <td>USA</td>\n",
       "      <td>Fireball</td>\n",
       "      <td>5 sec.</td>\n",
       "      <td>white/green ball with trailing tail and fallin...</td>\n",
       "      <td>11/21/98</td>\n",
       "      <td>1998-06-01</td>\n",
       "      <td>22:00</td>\n",
       "      <td>46.471024</td>\n",
       "      <td>-91.198318</td>\n",
       "    </tr>\n",
       "  </tbody>\n",
       "</table>\n",
       "<p>838 rows × 11 columns</p>\n",
       "</div>"
      ],
      "text/plain": [
       "            city state country     shape                  duration  \\\n",
       "0        Sisters    OR     USA     Cigar                 4 minutes   \n",
       "1       Sarasota    FL     USA     Other                 2 minutes   \n",
       "2      Cleveland    TN     USA     Light                10 minutes   \n",
       "3         Galway    NY     USA    Circle                    5 mins   \n",
       "4    Downingtown    PA     USA    Circle                    1 hour   \n",
       "..           ...   ...     ...       ...                       ...   \n",
       "994    Haysville    KS     USA  Teardrop  5 minutes lights showing   \n",
       "996  Maple Shade    NJ     USA    Sphere                20 seconds   \n",
       "997      Phoenix    AZ     USA      Oval                   3 hours   \n",
       "998       Boston    MA     USA      Disk                    unkown   \n",
       "999     Bayfield    WI     USA  Fireball                    5 sec.   \n",
       "\n",
       "                                               summary    posted       date  \\\n",
       "0    Long and narrow illuminated craft flying high ...   5/20/21 2021-05-15   \n",
       "1                                     String of lights   5/20/21 2021-05-10   \n",
       "2                                30+ lights in a line.   5/20/21 2021-05-05   \n",
       "3    I was standing at my kitchen sink and looked u...   8/20/21 2020-10-16   \n",
       "4    Multiple slow moving craft seen all over the s...   7/31/21 2021-06-18   \n",
       "..                                                 ...       ...        ...   \n",
       "994  We saw the actual ufo after she spotted a ligh...   4/22/22 2022-03-09   \n",
       "996  Thought it was the North Star. Same brightness...  11/21/98 1998-05-29   \n",
       "997  Oval plastic looking craft, translucent, refle...  11/21/98 1998-05-29   \n",
       "998  encounter with approximatley seven saucers eac...  11/21/98 1998-06-01   \n",
       "999  white/green ball with trailing tail and fallin...  11/21/98 1998-06-01   \n",
       "\n",
       "      time   latitude   longitude  \n",
       "0    22:36  44.290948 -121.549252  \n",
       "1    22:00  27.336581  -82.530855  \n",
       "2    22:35  35.159518  -84.876611  \n",
       "3    18:25  43.018686  -74.031516  \n",
       "4    01:00  40.006496  -75.703274  \n",
       "..     ...        ...         ...  \n",
       "994  23:30  37.564462  -97.352267  \n",
       "996  03:00  39.952613  -74.992391  \n",
       "997  05:00  33.448437 -112.074141  \n",
       "998  14:00  42.355433  -71.060511  \n",
       "999  22:00  46.471024  -91.198318  \n",
       "\n",
       "[838 rows x 11 columns]"
      ]
     },
     "execution_count": 60,
     "metadata": {},
     "output_type": "execute_result"
    }
   ],
   "source": [
    "#OMG IT WORKED\n",
    "UFO"
   ]
  },
  {
   "cell_type": "code",
   "execution_count": 61,
   "id": "2a9ef2e1",
   "metadata": {},
   "outputs": [],
   "source": [
    "#Converting to exccel\n",
    "BF.to_excel(r'C:\\Users\\geens\\Desktop\\Data\\BF.xlsx', index=False, header=True)"
   ]
  },
  {
   "cell_type": "code",
   "execution_count": 63,
   "id": "e75b7acf",
   "metadata": {},
   "outputs": [],
   "source": [
    "#Converting to excel\n",
    "UFO.to_excel(r'C:\\Users\\geens\\Desktop\\Data\\UFO.xlsx', index=False, header=True)"
   ]
  }
 ],
 "metadata": {
  "kernelspec": {
   "display_name": "Python 3 (ipykernel)",
   "language": "python",
   "name": "python3"
  },
  "language_info": {
   "codemirror_mode": {
    "name": "ipython",
    "version": 3
   },
   "file_extension": ".py",
   "mimetype": "text/x-python",
   "name": "python",
   "nbconvert_exporter": "python",
   "pygments_lexer": "ipython3",
   "version": "3.10.6"
  },
  "vscode": {
   "interpreter": {
    "hash": "56388a81e87decfa50a34c2f39e75028d8b10046f70d40249ca5dfe9917d2002"
   }
  }
 },
 "nbformat": 4,
 "nbformat_minor": 5
}
