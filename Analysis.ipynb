{
 "cells": [
  {
   "cell_type": "code",
   "execution_count": 51,
   "id": "ad571894",
   "metadata": {},
   "outputs": [],
   "source": [
    "#Import packages\n",
    "import pandas as pd\n",
    "import numpy as np\n",
    "import os\n",
    "import geocoder\n",
    "from geopy.geocoders import Nominatim"
   ]
  },
  {
   "cell_type": "code",
   "execution_count": 20,
   "id": "3878a2de",
   "metadata": {
    "scrolled": true
   },
   "outputs": [],
   "source": [
    "#Read in BF locations data\n",
    "BF_Locations = pd.read_csv(os.path.join(\"https://download.data.world/s/a5gdzsmxenwcwqmnbjaaizbfk4uea3\"))\n",
    "BF_Reports = pd.read_csv(os.path.join(\"https://download.data.world/s/td52m5guv2cpruwjo6pr2cd3fbk5cx\"))"
   ]
  },
  {
   "cell_type": "code",
   "execution_count": 21,
   "id": "4266e8e9",
   "metadata": {},
   "outputs": [],
   "source": [
    "#Read in UFO data\n",
    "UFO = pd.read_csv(os.path.join(\"https://download.data.world/s/lobqhnvklhbppb4ayke4b23lsupg57\"))"
   ]
  },
  {
   "cell_type": "code",
   "execution_count": 22,
   "id": "0c6825fb",
   "metadata": {},
   "outputs": [],
   "source": [
    "#Change column name\n",
    "BF_Locations = BF_Locations.rename(columns={'number': 'report_number'})"
   ]
  },
  {
   "cell_type": "code",
   "execution_count": 23,
   "id": "c0ec6a59",
   "metadata": {
    "scrolled": true
   },
   "outputs": [],
   "source": [
    "#Merge two BF datasets\n",
    "BF = pd.merge(BF_Locations, BF_Reports, how='left', left_on='report_number', right_on='report_number')"
   ]
  },
  {
   "cell_type": "code",
   "execution_count": 24,
   "id": "b6f5e032",
   "metadata": {},
   "outputs": [],
   "source": [
    "#Split 'title' column by report number and report\n",
    "BF[['report_number2', 'report']] = BF.pop('title').str.split(pat=':', n=1, expand=True)"
   ]
  },
  {
   "cell_type": "code",
   "execution_count": 25,
   "id": "a1ec3919",
   "metadata": {},
   "outputs": [],
   "source": [
    "#Reformatting timestamp column\n",
    "BF['timestamp'] = pd.to_datetime(BF['timestamp'], format = \"%Y-%m-%dT%H:%M:%S.%f\")"
   ]
  },
  {
   "cell_type": "code",
   "execution_count": 26,
   "id": "5cc12220",
   "metadata": {},
   "outputs": [],
   "source": [
    "#Splitting timestamp column\n",
    "BF['report_date'] = BF['timestamp'].dt.date\n",
    "BF['time'] = BF['timestamp'].dt.time"
   ]
  },
  {
   "cell_type": "code",
   "execution_count": 27,
   "id": "556e20b8",
   "metadata": {},
   "outputs": [],
   "source": [
    "#Removing unnecessary columns\n",
    "BF = BF.drop(['timestamp', 'year', 'season', 'report_class', \n",
    "              'month', 'date', 'a_g_references', 'time', 'report_number2'], axis=1)"
   ]
  },
  {
   "cell_type": "code",
   "execution_count": 28,
   "id": "897a7261",
   "metadata": {},
   "outputs": [],
   "source": [
    "#Drop unnecessary columns\n",
    "UFO = UFO.drop(['stats', 'report_link'], axis = 1)"
   ]
  },
  {
   "cell_type": "code",
   "execution_count": 29,
   "id": "bceaeced",
   "metadata": {},
   "outputs": [],
   "source": [
    "#Remove all countries other than USA\n",
    "UFO = UFO.loc[UFO[\"country\"] == \"USA\"]"
   ]
  },
  {
   "cell_type": "code",
   "execution_count": 30,
   "id": "da658c8a",
   "metadata": {},
   "outputs": [],
   "source": [
    "#Split 'date_time' column\n",
    "UFO[['date', 'time']] = UFO.pop('date_time').str.split(pat=' ', n=1, expand=True)"
   ]
  },
  {
   "cell_type": "code",
   "execution_count": 31,
   "id": "1ed620bb",
   "metadata": {},
   "outputs": [],
   "source": [
    "#Changing dates to datetime format\n",
    "BF['report_date'] = pd.to_datetime(BF['report_date'], errors='coerce')\n",
    "UFO['date'] = pd.to_datetime(UFO['date'], errors='coerce')"
   ]
  },
  {
   "cell_type": "code",
   "execution_count": 32,
   "id": "7744c464",
   "metadata": {},
   "outputs": [],
   "source": [
    "#Dropping null values\n",
    "UFO = UFO[UFO['date'].notna()]"
   ]
  },
  {
   "cell_type": "code",
   "execution_count": 33,
   "id": "d08a69a4",
   "metadata": {},
   "outputs": [],
   "source": [
    "#Due to the size of the dataframe, I am only mapping reports starting on 1/1/1990\n",
    "UFO = UFO[~(UFO['date'] < '1/1/1990')]\n",
    "BF = BF[~(BF['report_date'] < '1990-01-01')]"
   ]
  },
  {
   "cell_type": "code",
   "execution_count": 35,
   "id": "2a9ef2e1",
   "metadata": {},
   "outputs": [],
   "source": [
    "#Converting to exccel\n",
    "BF.to_excel(r'C:\\Users\\geens\\Desktop\\Data\\BF.xlsx', index=False, header=True)"
   ]
  },
  {
   "cell_type": "code",
   "execution_count": 37,
   "id": "14ed83db",
   "metadata": {},
   "outputs": [],
   "source": [
    "#Attempting to convert to excel\n",
    "writer = pd.ExcelWriter(r'C:\\Users\\geens\\Desktop\\Data\\UFO.xlsx', mode='w')\n",
    "UFO.to_excel(writer)"
   ]
  },
  {
   "cell_type": "code",
   "execution_count": 49,
   "id": "dea43d60",
   "metadata": {},
   "outputs": [],
   "source": [
    "writer = pd.ExcelWriter(r'C:\\Users\\geens\\Desktop\\Data\\UFO.xlsx', engine='xlsxwriter')"
   ]
  },
  {
   "cell_type": "code",
   "execution_count": 50,
   "id": "3886087e",
   "metadata": {},
   "outputs": [],
   "source": [
    "UFO.to_excel(writer, sheet_name='Sheet1')"
   ]
  }
 ],
 "metadata": {
  "kernelspec": {
   "display_name": "Python 3 (ipykernel)",
   "language": "python",
   "name": "python3"
  },
  "language_info": {
   "codemirror_mode": {
    "name": "ipython",
    "version": 3
   },
   "file_extension": ".py",
   "mimetype": "text/x-python",
   "name": "python",
   "nbconvert_exporter": "python",
   "pygments_lexer": "ipython3",
   "version": "3.10.6"
  },
  "vscode": {
   "interpreter": {
    "hash": "56388a81e87decfa50a34c2f39e75028d8b10046f70d40249ca5dfe9917d2002"
   }
  }
 },
 "nbformat": 4,
 "nbformat_minor": 5
}
